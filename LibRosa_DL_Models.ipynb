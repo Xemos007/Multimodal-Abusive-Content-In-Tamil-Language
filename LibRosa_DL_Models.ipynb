{
  "nbformat": 4,
  "nbformat_minor": 0,
  "metadata": {
    "colab": {
      "provenance": [],
      "collapsed_sections": []
    },
    "kernelspec": {
      "name": "python3",
      "display_name": "Python 3"
    },
    "language_info": {
      "name": "python"
    },
    "accelerator": "GPU"
  },
  "cells": [
    {
      "cell_type": "code",
      "execution_count": 1,
      "metadata": {
        "colab": {
          "base_uri": "https://localhost:8080/"
        },
        "id": "jt1UStnHXb25",
        "outputId": "e03e9a38-dff0-49ba-bde2-6905e1e183b3"
      },
      "outputs": [
        {
          "output_type": "stream",
          "name": "stdout",
          "text": [
            "Looking in indexes: https://pypi.org/simple, https://us-python.pkg.dev/colab-wheels/public/simple/\n",
            "Requirement already satisfied: librosa in /usr/local/lib/python3.7/dist-packages (0.8.1)\n",
            "Requirement already satisfied: resampy>=0.2.2 in /usr/local/lib/python3.7/dist-packages (from librosa) (0.4.0)\n",
            "Requirement already satisfied: soundfile>=0.10.2 in /usr/local/lib/python3.7/dist-packages (from librosa) (0.10.3.post1)\n",
            "Requirement already satisfied: scikit-learn!=0.19.0,>=0.14.0 in /usr/local/lib/python3.7/dist-packages (from librosa) (1.0.2)\n",
            "Requirement already satisfied: pooch>=1.0 in /usr/local/lib/python3.7/dist-packages (from librosa) (1.6.0)\n",
            "Requirement already satisfied: numba>=0.43.0 in /usr/local/lib/python3.7/dist-packages (from librosa) (0.56.2)\n",
            "Requirement already satisfied: joblib>=0.14 in /usr/local/lib/python3.7/dist-packages (from librosa) (1.1.0)\n",
            "Requirement already satisfied: scipy>=1.0.0 in /usr/local/lib/python3.7/dist-packages (from librosa) (1.7.3)\n",
            "Requirement already satisfied: audioread>=2.0.0 in /usr/local/lib/python3.7/dist-packages (from librosa) (3.0.0)\n",
            "Requirement already satisfied: decorator>=3.0.0 in /usr/local/lib/python3.7/dist-packages (from librosa) (4.4.2)\n",
            "Requirement already satisfied: numpy>=1.15.0 in /usr/local/lib/python3.7/dist-packages (from librosa) (1.21.6)\n",
            "Requirement already satisfied: packaging>=20.0 in /usr/local/lib/python3.7/dist-packages (from librosa) (21.3)\n",
            "Requirement already satisfied: setuptools<60 in /usr/local/lib/python3.7/dist-packages (from numba>=0.43.0->librosa) (57.4.0)\n",
            "Requirement already satisfied: llvmlite<0.40,>=0.39.0dev0 in /usr/local/lib/python3.7/dist-packages (from numba>=0.43.0->librosa) (0.39.1)\n",
            "Requirement already satisfied: importlib-metadata in /usr/local/lib/python3.7/dist-packages (from numba>=0.43.0->librosa) (4.12.0)\n",
            "Requirement already satisfied: pyparsing!=3.0.5,>=2.0.2 in /usr/local/lib/python3.7/dist-packages (from packaging>=20.0->librosa) (3.0.9)\n",
            "Requirement already satisfied: appdirs>=1.3.0 in /usr/local/lib/python3.7/dist-packages (from pooch>=1.0->librosa) (1.4.4)\n",
            "Requirement already satisfied: requests>=2.19.0 in /usr/local/lib/python3.7/dist-packages (from pooch>=1.0->librosa) (2.23.0)\n",
            "Requirement already satisfied: urllib3!=1.25.0,!=1.25.1,<1.26,>=1.21.1 in /usr/local/lib/python3.7/dist-packages (from requests>=2.19.0->pooch>=1.0->librosa) (1.24.3)\n",
            "Requirement already satisfied: certifi>=2017.4.17 in /usr/local/lib/python3.7/dist-packages (from requests>=2.19.0->pooch>=1.0->librosa) (2022.6.15)\n",
            "Requirement already satisfied: idna<3,>=2.5 in /usr/local/lib/python3.7/dist-packages (from requests>=2.19.0->pooch>=1.0->librosa) (2.10)\n",
            "Requirement already satisfied: chardet<4,>=3.0.2 in /usr/local/lib/python3.7/dist-packages (from requests>=2.19.0->pooch>=1.0->librosa) (3.0.4)\n",
            "Requirement already satisfied: threadpoolctl>=2.0.0 in /usr/local/lib/python3.7/dist-packages (from scikit-learn!=0.19.0,>=0.14.0->librosa) (3.1.0)\n",
            "Requirement already satisfied: cffi>=1.0 in /usr/local/lib/python3.7/dist-packages (from soundfile>=0.10.2->librosa) (1.15.1)\n",
            "Requirement already satisfied: pycparser in /usr/local/lib/python3.7/dist-packages (from cffi>=1.0->soundfile>=0.10.2->librosa) (2.21)\n",
            "Requirement already satisfied: typing-extensions>=3.6.4 in /usr/local/lib/python3.7/dist-packages (from importlib-metadata->numba>=0.43.0->librosa) (4.1.1)\n",
            "Requirement already satisfied: zipp>=0.5 in /usr/local/lib/python3.7/dist-packages (from importlib-metadata->numba>=0.43.0->librosa) (3.8.1)\n"
          ]
        }
      ],
      "source": [
        "!pip3 install librosa"
      ]
    },
    {
      "cell_type": "code",
      "source": [
        "!pip3 install matplotlib"
      ],
      "metadata": {
        "colab": {
          "base_uri": "https://localhost:8080/"
        },
        "id": "3DmD9kKIXvPM",
        "outputId": "aecc914e-b0b3-428d-f639-21722155929b"
      },
      "execution_count": 2,
      "outputs": [
        {
          "output_type": "stream",
          "name": "stdout",
          "text": [
            "Looking in indexes: https://pypi.org/simple, https://us-python.pkg.dev/colab-wheels/public/simple/\n",
            "Requirement already satisfied: matplotlib in /usr/local/lib/python3.7/dist-packages (3.2.2)\n",
            "Requirement already satisfied: python-dateutil>=2.1 in /usr/local/lib/python3.7/dist-packages (from matplotlib) (2.8.2)\n",
            "Requirement already satisfied: pyparsing!=2.0.4,!=2.1.2,!=2.1.6,>=2.0.1 in /usr/local/lib/python3.7/dist-packages (from matplotlib) (3.0.9)\n",
            "Requirement already satisfied: kiwisolver>=1.0.1 in /usr/local/lib/python3.7/dist-packages (from matplotlib) (1.4.4)\n",
            "Requirement already satisfied: cycler>=0.10 in /usr/local/lib/python3.7/dist-packages (from matplotlib) (0.11.0)\n",
            "Requirement already satisfied: numpy>=1.11 in /usr/local/lib/python3.7/dist-packages (from matplotlib) (1.21.6)\n",
            "Requirement already satisfied: typing-extensions in /usr/local/lib/python3.7/dist-packages (from kiwisolver>=1.0.1->matplotlib) (4.1.1)\n",
            "Requirement already satisfied: six>=1.5 in /usr/local/lib/python3.7/dist-packages (from python-dateutil>=2.1->matplotlib) (1.15.0)\n"
          ]
        }
      ]
    },
    {
      "cell_type": "code",
      "source": [
        "!pip3 install pandas"
      ],
      "metadata": {
        "colab": {
          "base_uri": "https://localhost:8080/"
        },
        "id": "REtsw5nBXwVY",
        "outputId": "17972e2b-e113-4243-de69-82a5e37ee1ad"
      },
      "execution_count": 3,
      "outputs": [
        {
          "output_type": "stream",
          "name": "stdout",
          "text": [
            "Looking in indexes: https://pypi.org/simple, https://us-python.pkg.dev/colab-wheels/public/simple/\n",
            "Requirement already satisfied: pandas in /usr/local/lib/python3.7/dist-packages (1.3.5)\n",
            "Requirement already satisfied: pytz>=2017.3 in /usr/local/lib/python3.7/dist-packages (from pandas) (2022.2.1)\n",
            "Requirement already satisfied: numpy>=1.17.3 in /usr/local/lib/python3.7/dist-packages (from pandas) (1.21.6)\n",
            "Requirement already satisfied: python-dateutil>=2.7.3 in /usr/local/lib/python3.7/dist-packages (from pandas) (2.8.2)\n",
            "Requirement already satisfied: six>=1.5 in /usr/local/lib/python3.7/dist-packages (from python-dateutil>=2.7.3->pandas) (1.15.0)\n"
          ]
        }
      ]
    },
    {
      "cell_type": "code",
      "source": [
        "!pip3 install sklearn"
      ],
      "metadata": {
        "colab": {
          "base_uri": "https://localhost:8080/"
        },
        "id": "exB4SD05XxfZ",
        "outputId": "4efa04cb-8253-4250-ce53-21609eda1d3e"
      },
      "execution_count": 4,
      "outputs": [
        {
          "output_type": "stream",
          "name": "stdout",
          "text": [
            "Looking in indexes: https://pypi.org/simple, https://us-python.pkg.dev/colab-wheels/public/simple/\n",
            "Requirement already satisfied: sklearn in /usr/local/lib/python3.7/dist-packages (0.0)\n",
            "Requirement already satisfied: scikit-learn in /usr/local/lib/python3.7/dist-packages (from sklearn) (1.0.2)\n",
            "Requirement already satisfied: joblib>=0.11 in /usr/local/lib/python3.7/dist-packages (from scikit-learn->sklearn) (1.1.0)\n",
            "Requirement already satisfied: threadpoolctl>=2.0.0 in /usr/local/lib/python3.7/dist-packages (from scikit-learn->sklearn) (3.1.0)\n",
            "Requirement already satisfied: numpy>=1.14.6 in /usr/local/lib/python3.7/dist-packages (from scikit-learn->sklearn) (1.21.6)\n",
            "Requirement already satisfied: scipy>=1.1.0 in /usr/local/lib/python3.7/dist-packages (from scikit-learn->sklearn) (1.7.3)\n"
          ]
        }
      ]
    },
    {
      "cell_type": "code",
      "source": [
        "!pip3 install tensorflow"
      ],
      "metadata": {
        "colab": {
          "base_uri": "https://localhost:8080/"
        },
        "id": "H4ob2nU2Xy0o",
        "outputId": "21a26ea0-dc06-497f-faf2-cc388e530f3c"
      },
      "execution_count": 5,
      "outputs": [
        {
          "output_type": "stream",
          "name": "stdout",
          "text": [
            "Looking in indexes: https://pypi.org/simple, https://us-python.pkg.dev/colab-wheels/public/simple/\n",
            "Requirement already satisfied: tensorflow in /usr/local/lib/python3.7/dist-packages (2.8.2+zzzcolab20220719082949)\n",
            "Requirement already satisfied: astunparse>=1.6.0 in /usr/local/lib/python3.7/dist-packages (from tensorflow) (1.6.3)\n",
            "Requirement already satisfied: libclang>=9.0.1 in /usr/local/lib/python3.7/dist-packages (from tensorflow) (14.0.6)\n",
            "Requirement already satisfied: tensorflow-io-gcs-filesystem>=0.23.1 in /usr/local/lib/python3.7/dist-packages (from tensorflow) (0.26.0)\n",
            "Requirement already satisfied: setuptools in /usr/local/lib/python3.7/dist-packages (from tensorflow) (57.4.0)\n",
            "Requirement already satisfied: google-pasta>=0.1.1 in /usr/local/lib/python3.7/dist-packages (from tensorflow) (0.2.0)\n",
            "Requirement already satisfied: wrapt>=1.11.0 in /usr/local/lib/python3.7/dist-packages (from tensorflow) (1.14.1)\n",
            "Requirement already satisfied: tensorboard<2.9,>=2.8 in /usr/local/lib/python3.7/dist-packages (from tensorflow) (2.8.0)\n",
            "Requirement already satisfied: termcolor>=1.1.0 in /usr/local/lib/python3.7/dist-packages (from tensorflow) (1.1.0)\n",
            "Requirement already satisfied: tensorflow-estimator<2.9,>=2.8 in /usr/local/lib/python3.7/dist-packages (from tensorflow) (2.8.0)\n",
            "Requirement already satisfied: grpcio<2.0,>=1.24.3 in /usr/local/lib/python3.7/dist-packages (from tensorflow) (1.48.1)\n",
            "Requirement already satisfied: h5py>=2.9.0 in /usr/local/lib/python3.7/dist-packages (from tensorflow) (3.1.0)\n",
            "Requirement already satisfied: protobuf<3.20,>=3.9.2 in /usr/local/lib/python3.7/dist-packages (from tensorflow) (3.17.3)\n",
            "Requirement already satisfied: six>=1.12.0 in /usr/local/lib/python3.7/dist-packages (from tensorflow) (1.15.0)\n",
            "Requirement already satisfied: keras<2.9,>=2.8.0rc0 in /usr/local/lib/python3.7/dist-packages (from tensorflow) (2.8.0)\n",
            "Requirement already satisfied: keras-preprocessing>=1.1.1 in /usr/local/lib/python3.7/dist-packages (from tensorflow) (1.1.2)\n",
            "Requirement already satisfied: opt-einsum>=2.3.2 in /usr/local/lib/python3.7/dist-packages (from tensorflow) (3.3.0)\n",
            "Requirement already satisfied: absl-py>=0.4.0 in /usr/local/lib/python3.7/dist-packages (from tensorflow) (1.2.0)\n",
            "Requirement already satisfied: flatbuffers>=1.12 in /usr/local/lib/python3.7/dist-packages (from tensorflow) (2.0.7)\n",
            "Requirement already satisfied: typing-extensions>=3.6.6 in /usr/local/lib/python3.7/dist-packages (from tensorflow) (4.1.1)\n",
            "Requirement already satisfied: numpy>=1.20 in /usr/local/lib/python3.7/dist-packages (from tensorflow) (1.21.6)\n",
            "Requirement already satisfied: gast>=0.2.1 in /usr/local/lib/python3.7/dist-packages (from tensorflow) (0.5.3)\n",
            "Requirement already satisfied: wheel<1.0,>=0.23.0 in /usr/local/lib/python3.7/dist-packages (from astunparse>=1.6.0->tensorflow) (0.37.1)\n",
            "Requirement already satisfied: cached-property in /usr/local/lib/python3.7/dist-packages (from h5py>=2.9.0->tensorflow) (1.5.2)\n",
            "Requirement already satisfied: google-auth<3,>=1.6.3 in /usr/local/lib/python3.7/dist-packages (from tensorboard<2.9,>=2.8->tensorflow) (1.35.0)\n",
            "Requirement already satisfied: tensorboard-plugin-wit>=1.6.0 in /usr/local/lib/python3.7/dist-packages (from tensorboard<2.9,>=2.8->tensorflow) (1.8.1)\n",
            "Requirement already satisfied: markdown>=2.6.8 in /usr/local/lib/python3.7/dist-packages (from tensorboard<2.9,>=2.8->tensorflow) (3.4.1)\n",
            "Requirement already satisfied: tensorboard-data-server<0.7.0,>=0.6.0 in /usr/local/lib/python3.7/dist-packages (from tensorboard<2.9,>=2.8->tensorflow) (0.6.1)\n",
            "Requirement already satisfied: google-auth-oauthlib<0.5,>=0.4.1 in /usr/local/lib/python3.7/dist-packages (from tensorboard<2.9,>=2.8->tensorflow) (0.4.6)\n",
            "Requirement already satisfied: werkzeug>=0.11.15 in /usr/local/lib/python3.7/dist-packages (from tensorboard<2.9,>=2.8->tensorflow) (1.0.1)\n",
            "Requirement already satisfied: requests<3,>=2.21.0 in /usr/local/lib/python3.7/dist-packages (from tensorboard<2.9,>=2.8->tensorflow) (2.23.0)\n",
            "Requirement already satisfied: pyasn1-modules>=0.2.1 in /usr/local/lib/python3.7/dist-packages (from google-auth<3,>=1.6.3->tensorboard<2.9,>=2.8->tensorflow) (0.2.8)\n",
            "Requirement already satisfied: cachetools<5.0,>=2.0.0 in /usr/local/lib/python3.7/dist-packages (from google-auth<3,>=1.6.3->tensorboard<2.9,>=2.8->tensorflow) (4.2.4)\n",
            "Requirement already satisfied: rsa<5,>=3.1.4 in /usr/local/lib/python3.7/dist-packages (from google-auth<3,>=1.6.3->tensorboard<2.9,>=2.8->tensorflow) (4.9)\n",
            "Requirement already satisfied: requests-oauthlib>=0.7.0 in /usr/local/lib/python3.7/dist-packages (from google-auth-oauthlib<0.5,>=0.4.1->tensorboard<2.9,>=2.8->tensorflow) (1.3.1)\n",
            "Requirement already satisfied: importlib-metadata>=4.4 in /usr/local/lib/python3.7/dist-packages (from markdown>=2.6.8->tensorboard<2.9,>=2.8->tensorflow) (4.12.0)\n",
            "Requirement already satisfied: zipp>=0.5 in /usr/local/lib/python3.7/dist-packages (from importlib-metadata>=4.4->markdown>=2.6.8->tensorboard<2.9,>=2.8->tensorflow) (3.8.1)\n",
            "Requirement already satisfied: pyasn1<0.5.0,>=0.4.6 in /usr/local/lib/python3.7/dist-packages (from pyasn1-modules>=0.2.1->google-auth<3,>=1.6.3->tensorboard<2.9,>=2.8->tensorflow) (0.4.8)\n",
            "Requirement already satisfied: chardet<4,>=3.0.2 in /usr/local/lib/python3.7/dist-packages (from requests<3,>=2.21.0->tensorboard<2.9,>=2.8->tensorflow) (3.0.4)\n",
            "Requirement already satisfied: certifi>=2017.4.17 in /usr/local/lib/python3.7/dist-packages (from requests<3,>=2.21.0->tensorboard<2.9,>=2.8->tensorflow) (2022.6.15)\n",
            "Requirement already satisfied: urllib3!=1.25.0,!=1.25.1,<1.26,>=1.21.1 in /usr/local/lib/python3.7/dist-packages (from requests<3,>=2.21.0->tensorboard<2.9,>=2.8->tensorflow) (1.24.3)\n",
            "Requirement already satisfied: idna<3,>=2.5 in /usr/local/lib/python3.7/dist-packages (from requests<3,>=2.21.0->tensorboard<2.9,>=2.8->tensorflow) (2.10)\n",
            "Requirement already satisfied: oauthlib>=3.0.0 in /usr/local/lib/python3.7/dist-packages (from requests-oauthlib>=0.7.0->google-auth-oauthlib<0.5,>=0.4.1->tensorboard<2.9,>=2.8->tensorflow) (3.2.0)\n"
          ]
        }
      ]
    },
    {
      "cell_type": "code",
      "source": [
        "# Import Module\n",
        "import os\n",
        "import librosa\n",
        "import pandas as pd\n",
        "import numpy as np\n",
        "import random\n",
        "random.seed(100)"
      ],
      "metadata": {
        "id": "WlH22Oo6X1zQ"
      },
      "execution_count": 6,
      "outputs": []
    },
    {
      "cell_type": "code",
      "source": [
        "# Folder Path\n",
        "path = \"/content/drive/MyDrive/Mini Project/Dataset/Audio/Abusive\"\n",
        "\n",
        "X_data = []\n",
        "# Change the directory\n",
        "os.chdir(path)\n",
        "# iterate through all file\n",
        "for file in os.listdir():\n",
        "    # Check whether file is in text format or not\n",
        "    if file.endswith(\".mp3\"):\n",
        "        file_path = f\"{path}/{file}\"\n",
        "  \n",
        "        # call read text file function\n",
        "        fl = librosa.load(file_path)\n",
        "        X_data.append(fl)\n",
        "len(X_data)"
      ],
      "metadata": {
        "colab": {
          "base_uri": "https://localhost:8080/"
        },
        "id": "ZH4G4YwiX3cR",
        "outputId": "bd7e8b26-f399-49df-8641-cddffd41cb76"
      },
      "execution_count": 7,
      "outputs": [
        {
          "output_type": "stream",
          "name": "stderr",
          "text": [
            "/usr/local/lib/python3.7/dist-packages/librosa/core/audio.py:165: UserWarning: PySoundFile failed. Trying audioread instead.\n",
            "  warnings.warn(\"PySoundFile failed. Trying audioread instead.\")\n",
            "/usr/local/lib/python3.7/dist-packages/librosa/core/audio.py:165: UserWarning: PySoundFile failed. Trying audioread instead.\n",
            "  warnings.warn(\"PySoundFile failed. Trying audioread instead.\")\n",
            "/usr/local/lib/python3.7/dist-packages/librosa/core/audio.py:165: UserWarning: PySoundFile failed. Trying audioread instead.\n",
            "  warnings.warn(\"PySoundFile failed. Trying audioread instead.\")\n",
            "/usr/local/lib/python3.7/dist-packages/librosa/core/audio.py:165: UserWarning: PySoundFile failed. Trying audioread instead.\n",
            "  warnings.warn(\"PySoundFile failed. Trying audioread instead.\")\n",
            "/usr/local/lib/python3.7/dist-packages/librosa/core/audio.py:165: UserWarning: PySoundFile failed. Trying audioread instead.\n",
            "  warnings.warn(\"PySoundFile failed. Trying audioread instead.\")\n",
            "/usr/local/lib/python3.7/dist-packages/librosa/core/audio.py:165: UserWarning: PySoundFile failed. Trying audioread instead.\n",
            "  warnings.warn(\"PySoundFile failed. Trying audioread instead.\")\n",
            "/usr/local/lib/python3.7/dist-packages/librosa/core/audio.py:165: UserWarning: PySoundFile failed. Trying audioread instead.\n",
            "  warnings.warn(\"PySoundFile failed. Trying audioread instead.\")\n",
            "/usr/local/lib/python3.7/dist-packages/librosa/core/audio.py:165: UserWarning: PySoundFile failed. Trying audioread instead.\n",
            "  warnings.warn(\"PySoundFile failed. Trying audioread instead.\")\n",
            "/usr/local/lib/python3.7/dist-packages/librosa/core/audio.py:165: UserWarning: PySoundFile failed. Trying audioread instead.\n",
            "  warnings.warn(\"PySoundFile failed. Trying audioread instead.\")\n",
            "/usr/local/lib/python3.7/dist-packages/librosa/core/audio.py:165: UserWarning: PySoundFile failed. Trying audioread instead.\n",
            "  warnings.warn(\"PySoundFile failed. Trying audioread instead.\")\n",
            "/usr/local/lib/python3.7/dist-packages/librosa/core/audio.py:165: UserWarning: PySoundFile failed. Trying audioread instead.\n",
            "  warnings.warn(\"PySoundFile failed. Trying audioread instead.\")\n",
            "/usr/local/lib/python3.7/dist-packages/librosa/core/audio.py:165: UserWarning: PySoundFile failed. Trying audioread instead.\n",
            "  warnings.warn(\"PySoundFile failed. Trying audioread instead.\")\n",
            "/usr/local/lib/python3.7/dist-packages/librosa/core/audio.py:165: UserWarning: PySoundFile failed. Trying audioread instead.\n",
            "  warnings.warn(\"PySoundFile failed. Trying audioread instead.\")\n",
            "/usr/local/lib/python3.7/dist-packages/librosa/core/audio.py:165: UserWarning: PySoundFile failed. Trying audioread instead.\n",
            "  warnings.warn(\"PySoundFile failed. Trying audioread instead.\")\n",
            "/usr/local/lib/python3.7/dist-packages/librosa/core/audio.py:165: UserWarning: PySoundFile failed. Trying audioread instead.\n",
            "  warnings.warn(\"PySoundFile failed. Trying audioread instead.\")\n",
            "/usr/local/lib/python3.7/dist-packages/librosa/core/audio.py:165: UserWarning: PySoundFile failed. Trying audioread instead.\n",
            "  warnings.warn(\"PySoundFile failed. Trying audioread instead.\")\n",
            "/usr/local/lib/python3.7/dist-packages/librosa/core/audio.py:165: UserWarning: PySoundFile failed. Trying audioread instead.\n",
            "  warnings.warn(\"PySoundFile failed. Trying audioread instead.\")\n",
            "/usr/local/lib/python3.7/dist-packages/librosa/core/audio.py:165: UserWarning: PySoundFile failed. Trying audioread instead.\n",
            "  warnings.warn(\"PySoundFile failed. Trying audioread instead.\")\n",
            "/usr/local/lib/python3.7/dist-packages/librosa/core/audio.py:165: UserWarning: PySoundFile failed. Trying audioread instead.\n",
            "  warnings.warn(\"PySoundFile failed. Trying audioread instead.\")\n",
            "/usr/local/lib/python3.7/dist-packages/librosa/core/audio.py:165: UserWarning: PySoundFile failed. Trying audioread instead.\n",
            "  warnings.warn(\"PySoundFile failed. Trying audioread instead.\")\n",
            "/usr/local/lib/python3.7/dist-packages/librosa/core/audio.py:165: UserWarning: PySoundFile failed. Trying audioread instead.\n",
            "  warnings.warn(\"PySoundFile failed. Trying audioread instead.\")\n",
            "/usr/local/lib/python3.7/dist-packages/librosa/core/audio.py:165: UserWarning: PySoundFile failed. Trying audioread instead.\n",
            "  warnings.warn(\"PySoundFile failed. Trying audioread instead.\")\n",
            "/usr/local/lib/python3.7/dist-packages/librosa/core/audio.py:165: UserWarning: PySoundFile failed. Trying audioread instead.\n",
            "  warnings.warn(\"PySoundFile failed. Trying audioread instead.\")\n",
            "/usr/local/lib/python3.7/dist-packages/librosa/core/audio.py:165: UserWarning: PySoundFile failed. Trying audioread instead.\n",
            "  warnings.warn(\"PySoundFile failed. Trying audioread instead.\")\n",
            "/usr/local/lib/python3.7/dist-packages/librosa/core/audio.py:165: UserWarning: PySoundFile failed. Trying audioread instead.\n",
            "  warnings.warn(\"PySoundFile failed. Trying audioread instead.\")\n",
            "/usr/local/lib/python3.7/dist-packages/librosa/core/audio.py:165: UserWarning: PySoundFile failed. Trying audioread instead.\n",
            "  warnings.warn(\"PySoundFile failed. Trying audioread instead.\")\n",
            "/usr/local/lib/python3.7/dist-packages/librosa/core/audio.py:165: UserWarning: PySoundFile failed. Trying audioread instead.\n",
            "  warnings.warn(\"PySoundFile failed. Trying audioread instead.\")\n",
            "/usr/local/lib/python3.7/dist-packages/librosa/core/audio.py:165: UserWarning: PySoundFile failed. Trying audioread instead.\n",
            "  warnings.warn(\"PySoundFile failed. Trying audioread instead.\")\n",
            "/usr/local/lib/python3.7/dist-packages/librosa/core/audio.py:165: UserWarning: PySoundFile failed. Trying audioread instead.\n",
            "  warnings.warn(\"PySoundFile failed. Trying audioread instead.\")\n",
            "/usr/local/lib/python3.7/dist-packages/librosa/core/audio.py:165: UserWarning: PySoundFile failed. Trying audioread instead.\n",
            "  warnings.warn(\"PySoundFile failed. Trying audioread instead.\")\n",
            "/usr/local/lib/python3.7/dist-packages/librosa/core/audio.py:165: UserWarning: PySoundFile failed. Trying audioread instead.\n",
            "  warnings.warn(\"PySoundFile failed. Trying audioread instead.\")\n",
            "/usr/local/lib/python3.7/dist-packages/librosa/core/audio.py:165: UserWarning: PySoundFile failed. Trying audioread instead.\n",
            "  warnings.warn(\"PySoundFile failed. Trying audioread instead.\")\n",
            "/usr/local/lib/python3.7/dist-packages/librosa/core/audio.py:165: UserWarning: PySoundFile failed. Trying audioread instead.\n",
            "  warnings.warn(\"PySoundFile failed. Trying audioread instead.\")\n",
            "/usr/local/lib/python3.7/dist-packages/librosa/core/audio.py:165: UserWarning: PySoundFile failed. Trying audioread instead.\n",
            "  warnings.warn(\"PySoundFile failed. Trying audioread instead.\")\n",
            "/usr/local/lib/python3.7/dist-packages/librosa/core/audio.py:165: UserWarning: PySoundFile failed. Trying audioread instead.\n",
            "  warnings.warn(\"PySoundFile failed. Trying audioread instead.\")\n",
            "/usr/local/lib/python3.7/dist-packages/librosa/core/audio.py:165: UserWarning: PySoundFile failed. Trying audioread instead.\n",
            "  warnings.warn(\"PySoundFile failed. Trying audioread instead.\")\n",
            "/usr/local/lib/python3.7/dist-packages/librosa/core/audio.py:165: UserWarning: PySoundFile failed. Trying audioread instead.\n",
            "  warnings.warn(\"PySoundFile failed. Trying audioread instead.\")\n",
            "/usr/local/lib/python3.7/dist-packages/librosa/core/audio.py:165: UserWarning: PySoundFile failed. Trying audioread instead.\n",
            "  warnings.warn(\"PySoundFile failed. Trying audioread instead.\")\n",
            "/usr/local/lib/python3.7/dist-packages/librosa/core/audio.py:165: UserWarning: PySoundFile failed. Trying audioread instead.\n",
            "  warnings.warn(\"PySoundFile failed. Trying audioread instead.\")\n",
            "/usr/local/lib/python3.7/dist-packages/librosa/core/audio.py:165: UserWarning: PySoundFile failed. Trying audioread instead.\n",
            "  warnings.warn(\"PySoundFile failed. Trying audioread instead.\")\n",
            "/usr/local/lib/python3.7/dist-packages/librosa/core/audio.py:165: UserWarning: PySoundFile failed. Trying audioread instead.\n",
            "  warnings.warn(\"PySoundFile failed. Trying audioread instead.\")\n",
            "/usr/local/lib/python3.7/dist-packages/librosa/core/audio.py:165: UserWarning: PySoundFile failed. Trying audioread instead.\n",
            "  warnings.warn(\"PySoundFile failed. Trying audioread instead.\")\n",
            "/usr/local/lib/python3.7/dist-packages/librosa/core/audio.py:165: UserWarning: PySoundFile failed. Trying audioread instead.\n",
            "  warnings.warn(\"PySoundFile failed. Trying audioread instead.\")\n",
            "/usr/local/lib/python3.7/dist-packages/librosa/core/audio.py:165: UserWarning: PySoundFile failed. Trying audioread instead.\n",
            "  warnings.warn(\"PySoundFile failed. Trying audioread instead.\")\n",
            "/usr/local/lib/python3.7/dist-packages/librosa/core/audio.py:165: UserWarning: PySoundFile failed. Trying audioread instead.\n",
            "  warnings.warn(\"PySoundFile failed. Trying audioread instead.\")\n",
            "/usr/local/lib/python3.7/dist-packages/librosa/core/audio.py:165: UserWarning: PySoundFile failed. Trying audioread instead.\n",
            "  warnings.warn(\"PySoundFile failed. Trying audioread instead.\")\n",
            "/usr/local/lib/python3.7/dist-packages/librosa/core/audio.py:165: UserWarning: PySoundFile failed. Trying audioread instead.\n",
            "  warnings.warn(\"PySoundFile failed. Trying audioread instead.\")\n"
          ]
        },
        {
          "output_type": "execute_result",
          "data": {
            "text/plain": [
              "47"
            ]
          },
          "metadata": {},
          "execution_count": 7
        }
      ]
    },
    {
      "cell_type": "code",
      "source": [
        "Y_data = [1 for i in range(len(X_data))]\n",
        "\n",
        "# Folder Path\n",
        "path = \"/content/drive/MyDrive/Mini Project/Dataset/Audio/Non Abusive\"\n",
        "\n",
        "# Change the directory\n",
        "os.chdir(path)\n",
        "cnt = 0\n",
        "# iterate through all file\n",
        "for file in os.listdir():\n",
        "    # Check whether file is in text format or not\n",
        "    if file.endswith(\".mp3\"):\n",
        "        file_path = f\"{path}/{file}\"\n",
        "        # call read text file function\n",
        "        fl = librosa.load(file_path)\n",
        "        X_data.append(fl)\n",
        "        cnt += 1\n",
        "len(X_data)"
      ],
      "metadata": {
        "colab": {
          "base_uri": "https://localhost:8080/"
        },
        "id": "yPUND-RQY1Mg",
        "outputId": "4dcb2734-ffaa-480b-da0e-1f73f736fd5e"
      },
      "execution_count": 8,
      "outputs": [
        {
          "output_type": "stream",
          "name": "stderr",
          "text": [
            "/usr/local/lib/python3.7/dist-packages/librosa/core/audio.py:165: UserWarning: PySoundFile failed. Trying audioread instead.\n",
            "  warnings.warn(\"PySoundFile failed. Trying audioread instead.\")\n",
            "/usr/local/lib/python3.7/dist-packages/librosa/core/audio.py:165: UserWarning: PySoundFile failed. Trying audioread instead.\n",
            "  warnings.warn(\"PySoundFile failed. Trying audioread instead.\")\n",
            "/usr/local/lib/python3.7/dist-packages/librosa/core/audio.py:165: UserWarning: PySoundFile failed. Trying audioread instead.\n",
            "  warnings.warn(\"PySoundFile failed. Trying audioread instead.\")\n",
            "/usr/local/lib/python3.7/dist-packages/librosa/core/audio.py:165: UserWarning: PySoundFile failed. Trying audioread instead.\n",
            "  warnings.warn(\"PySoundFile failed. Trying audioread instead.\")\n",
            "/usr/local/lib/python3.7/dist-packages/librosa/core/audio.py:165: UserWarning: PySoundFile failed. Trying audioread instead.\n",
            "  warnings.warn(\"PySoundFile failed. Trying audioread instead.\")\n",
            "/usr/local/lib/python3.7/dist-packages/librosa/core/audio.py:165: UserWarning: PySoundFile failed. Trying audioread instead.\n",
            "  warnings.warn(\"PySoundFile failed. Trying audioread instead.\")\n",
            "/usr/local/lib/python3.7/dist-packages/librosa/core/audio.py:165: UserWarning: PySoundFile failed. Trying audioread instead.\n",
            "  warnings.warn(\"PySoundFile failed. Trying audioread instead.\")\n",
            "/usr/local/lib/python3.7/dist-packages/librosa/core/audio.py:165: UserWarning: PySoundFile failed. Trying audioread instead.\n",
            "  warnings.warn(\"PySoundFile failed. Trying audioread instead.\")\n",
            "/usr/local/lib/python3.7/dist-packages/librosa/core/audio.py:165: UserWarning: PySoundFile failed. Trying audioread instead.\n",
            "  warnings.warn(\"PySoundFile failed. Trying audioread instead.\")\n",
            "/usr/local/lib/python3.7/dist-packages/librosa/core/audio.py:165: UserWarning: PySoundFile failed. Trying audioread instead.\n",
            "  warnings.warn(\"PySoundFile failed. Trying audioread instead.\")\n",
            "/usr/local/lib/python3.7/dist-packages/librosa/core/audio.py:165: UserWarning: PySoundFile failed. Trying audioread instead.\n",
            "  warnings.warn(\"PySoundFile failed. Trying audioread instead.\")\n",
            "/usr/local/lib/python3.7/dist-packages/librosa/core/audio.py:165: UserWarning: PySoundFile failed. Trying audioread instead.\n",
            "  warnings.warn(\"PySoundFile failed. Trying audioread instead.\")\n",
            "/usr/local/lib/python3.7/dist-packages/librosa/core/audio.py:165: UserWarning: PySoundFile failed. Trying audioread instead.\n",
            "  warnings.warn(\"PySoundFile failed. Trying audioread instead.\")\n",
            "/usr/local/lib/python3.7/dist-packages/librosa/core/audio.py:165: UserWarning: PySoundFile failed. Trying audioread instead.\n",
            "  warnings.warn(\"PySoundFile failed. Trying audioread instead.\")\n",
            "/usr/local/lib/python3.7/dist-packages/librosa/core/audio.py:165: UserWarning: PySoundFile failed. Trying audioread instead.\n",
            "  warnings.warn(\"PySoundFile failed. Trying audioread instead.\")\n",
            "/usr/local/lib/python3.7/dist-packages/librosa/core/audio.py:165: UserWarning: PySoundFile failed. Trying audioread instead.\n",
            "  warnings.warn(\"PySoundFile failed. Trying audioread instead.\")\n",
            "/usr/local/lib/python3.7/dist-packages/librosa/core/audio.py:165: UserWarning: PySoundFile failed. Trying audioread instead.\n",
            "  warnings.warn(\"PySoundFile failed. Trying audioread instead.\")\n",
            "/usr/local/lib/python3.7/dist-packages/librosa/core/audio.py:165: UserWarning: PySoundFile failed. Trying audioread instead.\n",
            "  warnings.warn(\"PySoundFile failed. Trying audioread instead.\")\n",
            "/usr/local/lib/python3.7/dist-packages/librosa/core/audio.py:165: UserWarning: PySoundFile failed. Trying audioread instead.\n",
            "  warnings.warn(\"PySoundFile failed. Trying audioread instead.\")\n",
            "/usr/local/lib/python3.7/dist-packages/librosa/core/audio.py:165: UserWarning: PySoundFile failed. Trying audioread instead.\n",
            "  warnings.warn(\"PySoundFile failed. Trying audioread instead.\")\n",
            "/usr/local/lib/python3.7/dist-packages/librosa/core/audio.py:165: UserWarning: PySoundFile failed. Trying audioread instead.\n",
            "  warnings.warn(\"PySoundFile failed. Trying audioread instead.\")\n",
            "/usr/local/lib/python3.7/dist-packages/librosa/core/audio.py:165: UserWarning: PySoundFile failed. Trying audioread instead.\n",
            "  warnings.warn(\"PySoundFile failed. Trying audioread instead.\")\n",
            "/usr/local/lib/python3.7/dist-packages/librosa/core/audio.py:165: UserWarning: PySoundFile failed. Trying audioread instead.\n",
            "  warnings.warn(\"PySoundFile failed. Trying audioread instead.\")\n",
            "/usr/local/lib/python3.7/dist-packages/librosa/core/audio.py:165: UserWarning: PySoundFile failed. Trying audioread instead.\n",
            "  warnings.warn(\"PySoundFile failed. Trying audioread instead.\")\n",
            "/usr/local/lib/python3.7/dist-packages/librosa/core/audio.py:165: UserWarning: PySoundFile failed. Trying audioread instead.\n",
            "  warnings.warn(\"PySoundFile failed. Trying audioread instead.\")\n",
            "/usr/local/lib/python3.7/dist-packages/librosa/core/audio.py:165: UserWarning: PySoundFile failed. Trying audioread instead.\n",
            "  warnings.warn(\"PySoundFile failed. Trying audioread instead.\")\n",
            "/usr/local/lib/python3.7/dist-packages/librosa/core/audio.py:165: UserWarning: PySoundFile failed. Trying audioread instead.\n",
            "  warnings.warn(\"PySoundFile failed. Trying audioread instead.\")\n",
            "/usr/local/lib/python3.7/dist-packages/librosa/core/audio.py:165: UserWarning: PySoundFile failed. Trying audioread instead.\n",
            "  warnings.warn(\"PySoundFile failed. Trying audioread instead.\")\n",
            "/usr/local/lib/python3.7/dist-packages/librosa/core/audio.py:165: UserWarning: PySoundFile failed. Trying audioread instead.\n",
            "  warnings.warn(\"PySoundFile failed. Trying audioread instead.\")\n",
            "/usr/local/lib/python3.7/dist-packages/librosa/core/audio.py:165: UserWarning: PySoundFile failed. Trying audioread instead.\n",
            "  warnings.warn(\"PySoundFile failed. Trying audioread instead.\")\n",
            "/usr/local/lib/python3.7/dist-packages/librosa/core/audio.py:165: UserWarning: PySoundFile failed. Trying audioread instead.\n",
            "  warnings.warn(\"PySoundFile failed. Trying audioread instead.\")\n",
            "/usr/local/lib/python3.7/dist-packages/librosa/core/audio.py:165: UserWarning: PySoundFile failed. Trying audioread instead.\n",
            "  warnings.warn(\"PySoundFile failed. Trying audioread instead.\")\n",
            "/usr/local/lib/python3.7/dist-packages/librosa/core/audio.py:165: UserWarning: PySoundFile failed. Trying audioread instead.\n",
            "  warnings.warn(\"PySoundFile failed. Trying audioread instead.\")\n",
            "/usr/local/lib/python3.7/dist-packages/librosa/core/audio.py:165: UserWarning: PySoundFile failed. Trying audioread instead.\n",
            "  warnings.warn(\"PySoundFile failed. Trying audioread instead.\")\n",
            "/usr/local/lib/python3.7/dist-packages/librosa/core/audio.py:165: UserWarning: PySoundFile failed. Trying audioread instead.\n",
            "  warnings.warn(\"PySoundFile failed. Trying audioread instead.\")\n",
            "/usr/local/lib/python3.7/dist-packages/librosa/core/audio.py:165: UserWarning: PySoundFile failed. Trying audioread instead.\n",
            "  warnings.warn(\"PySoundFile failed. Trying audioread instead.\")\n",
            "/usr/local/lib/python3.7/dist-packages/librosa/core/audio.py:165: UserWarning: PySoundFile failed. Trying audioread instead.\n",
            "  warnings.warn(\"PySoundFile failed. Trying audioread instead.\")\n",
            "/usr/local/lib/python3.7/dist-packages/librosa/core/audio.py:165: UserWarning: PySoundFile failed. Trying audioread instead.\n",
            "  warnings.warn(\"PySoundFile failed. Trying audioread instead.\")\n",
            "/usr/local/lib/python3.7/dist-packages/librosa/core/audio.py:165: UserWarning: PySoundFile failed. Trying audioread instead.\n",
            "  warnings.warn(\"PySoundFile failed. Trying audioread instead.\")\n",
            "/usr/local/lib/python3.7/dist-packages/librosa/core/audio.py:165: UserWarning: PySoundFile failed. Trying audioread instead.\n",
            "  warnings.warn(\"PySoundFile failed. Trying audioread instead.\")\n",
            "/usr/local/lib/python3.7/dist-packages/librosa/core/audio.py:165: UserWarning: PySoundFile failed. Trying audioread instead.\n",
            "  warnings.warn(\"PySoundFile failed. Trying audioread instead.\")\n"
          ]
        },
        {
          "output_type": "execute_result",
          "data": {
            "text/plain": [
              "88"
            ]
          },
          "metadata": {},
          "execution_count": 8
        }
      ]
    },
    {
      "cell_type": "code",
      "source": [
        "len(Y_data)"
      ],
      "metadata": {
        "colab": {
          "base_uri": "https://localhost:8080/"
        },
        "id": "iaUXYy7HZlNl",
        "outputId": "80d1465f-38ab-47e4-955a-919f9a3584db"
      },
      "execution_count": 9,
      "outputs": [
        {
          "output_type": "execute_result",
          "data": {
            "text/plain": [
              "47"
            ]
          },
          "metadata": {},
          "execution_count": 9
        }
      ]
    },
    {
      "cell_type": "code",
      "source": [
        "for i in range(cnt):\n",
        "  Y_data.append(0)\n",
        "Y_data = np.array(Y_data)\n",
        "len(Y_data)"
      ],
      "metadata": {
        "colab": {
          "base_uri": "https://localhost:8080/"
        },
        "id": "OPitdud4Zmrw",
        "outputId": "fd8381e0-3aee-4913-a683-a9e45af219e5"
      },
      "execution_count": 10,
      "outputs": [
        {
          "output_type": "execute_result",
          "data": {
            "text/plain": [
              "88"
            ]
          },
          "metadata": {},
          "execution_count": 10
        }
      ]
    },
    {
      "cell_type": "code",
      "source": [
        "def feature_chromagram(waveform, sample_rate):\n",
        "    # STFT computed here explicitly; mel spectrogram and MFCC functions do this under the hood\n",
        "    stft_spectrogram=np.abs(librosa.stft(waveform))\n",
        "    # Produce the chromagram for all STFT frames and get the mean of each column of the resulting matrix to create a feature array\n",
        "    chromagram=np.mean(librosa.feature.chroma_stft(S=stft_spectrogram, sr=sample_rate).T,axis=0)\n",
        "    return chromagram\n",
        "\n",
        "def feature_melspectrogram(waveform, sample_rate):\n",
        "    # Produce the mel spectrogram for all STFT frames and get the mean of each column of the resulting matrix to create a feature array\n",
        "    # Using 8khz as upper frequency bound should be enough for most speech classification tasks\n",
        "    melspectrogram=np.mean(librosa.feature.melspectrogram(y=waveform, sr=sample_rate, n_mels=128, fmax=8000).T,axis=0)\n",
        "    return melspectrogram\n",
        "\n",
        "def feature_mfcc(waveform, sample_rate):\n",
        "    # Compute the MFCCs for all STFT frames and get the mean of each column of the resulting matrix to create a feature array\n",
        "    # 40 filterbanks = 40 coefficients\n",
        "    mfc_coefficients=np.mean(librosa.feature.mfcc(y=waveform, sr=sample_rate, n_mfcc=40).T, axis=0) \n",
        "    return mfc_coefficients"
      ],
      "metadata": {
        "id": "wrCMDiyMaYlp"
      },
      "execution_count": 11,
      "outputs": []
    },
    {
      "cell_type": "code",
      "source": [
        "def get_features(file):\n",
        "    # load an individual soundfile\n",
        "     \n",
        "    waveform , sr = librosa.load(file, sr=16000)\n",
        "    sample_rate = sr\n",
        "    # compute features of soundfile\n",
        "    chromagram = feature_chromagram(waveform, sample_rate)\n",
        "    melspectrogram = feature_melspectrogram(waveform, sample_rate)\n",
        "    mfc_coefficients = feature_mfcc(waveform, sample_rate)\n",
        "\n",
        "    feature_matrix=np.array([])\n",
        "    # use np.hstack to stack our feature arrays horizontally to create a feature matrix\n",
        "    feature_matrix = np.hstack((chromagram, melspectrogram, mfc_coefficients))\n",
        "\n",
        "    return feature_matrix"
      ],
      "metadata": {
        "id": "_24YZYSBaeDY"
      },
      "execution_count": 12,
      "outputs": []
    },
    {
      "cell_type": "code",
      "source": [
        "# Folder Path\n",
        "path = \"/content/drive/MyDrive/Mini Project/Dataset/Audio/Abusive\"\n",
        "\n",
        "Features_Abusive = []\n",
        "# Change the directory\n",
        "os.chdir(path)\n",
        "# iterate through all file\n",
        "for file in os.listdir():\n",
        "    # Check whether file is in text format or not\n",
        "    if file.endswith(\".mp3\"):\n",
        "        file_path = f\"{path}/{file}\"\n",
        "  \n",
        "        # call read text file function\n",
        "        Features_Abusive.append(get_features(file_path))\n",
        "len(Features_Abusive)"
      ],
      "metadata": {
        "colab": {
          "base_uri": "https://localhost:8080/"
        },
        "id": "Z7hTRb8daoEV",
        "outputId": "56910fb0-74c6-4651-e50c-e15f45e1f10d"
      },
      "execution_count": 13,
      "outputs": [
        {
          "output_type": "stream",
          "name": "stderr",
          "text": [
            "/usr/local/lib/python3.7/dist-packages/librosa/core/audio.py:165: UserWarning: PySoundFile failed. Trying audioread instead.\n",
            "  warnings.warn(\"PySoundFile failed. Trying audioread instead.\")\n",
            "/usr/local/lib/python3.7/dist-packages/librosa/core/audio.py:165: UserWarning: PySoundFile failed. Trying audioread instead.\n",
            "  warnings.warn(\"PySoundFile failed. Trying audioread instead.\")\n",
            "/usr/local/lib/python3.7/dist-packages/librosa/core/audio.py:165: UserWarning: PySoundFile failed. Trying audioread instead.\n",
            "  warnings.warn(\"PySoundFile failed. Trying audioread instead.\")\n",
            "/usr/local/lib/python3.7/dist-packages/librosa/core/audio.py:165: UserWarning: PySoundFile failed. Trying audioread instead.\n",
            "  warnings.warn(\"PySoundFile failed. Trying audioread instead.\")\n",
            "/usr/local/lib/python3.7/dist-packages/librosa/core/audio.py:165: UserWarning: PySoundFile failed. Trying audioread instead.\n",
            "  warnings.warn(\"PySoundFile failed. Trying audioread instead.\")\n",
            "/usr/local/lib/python3.7/dist-packages/librosa/core/audio.py:165: UserWarning: PySoundFile failed. Trying audioread instead.\n",
            "  warnings.warn(\"PySoundFile failed. Trying audioread instead.\")\n",
            "/usr/local/lib/python3.7/dist-packages/librosa/core/audio.py:165: UserWarning: PySoundFile failed. Trying audioread instead.\n",
            "  warnings.warn(\"PySoundFile failed. Trying audioread instead.\")\n",
            "/usr/local/lib/python3.7/dist-packages/librosa/core/audio.py:165: UserWarning: PySoundFile failed. Trying audioread instead.\n",
            "  warnings.warn(\"PySoundFile failed. Trying audioread instead.\")\n",
            "/usr/local/lib/python3.7/dist-packages/librosa/core/audio.py:165: UserWarning: PySoundFile failed. Trying audioread instead.\n",
            "  warnings.warn(\"PySoundFile failed. Trying audioread instead.\")\n",
            "/usr/local/lib/python3.7/dist-packages/librosa/core/audio.py:165: UserWarning: PySoundFile failed. Trying audioread instead.\n",
            "  warnings.warn(\"PySoundFile failed. Trying audioread instead.\")\n",
            "/usr/local/lib/python3.7/dist-packages/librosa/core/audio.py:165: UserWarning: PySoundFile failed. Trying audioread instead.\n",
            "  warnings.warn(\"PySoundFile failed. Trying audioread instead.\")\n",
            "/usr/local/lib/python3.7/dist-packages/librosa/core/audio.py:165: UserWarning: PySoundFile failed. Trying audioread instead.\n",
            "  warnings.warn(\"PySoundFile failed. Trying audioread instead.\")\n",
            "/usr/local/lib/python3.7/dist-packages/librosa/core/audio.py:165: UserWarning: PySoundFile failed. Trying audioread instead.\n",
            "  warnings.warn(\"PySoundFile failed. Trying audioread instead.\")\n",
            "/usr/local/lib/python3.7/dist-packages/librosa/core/audio.py:165: UserWarning: PySoundFile failed. Trying audioread instead.\n",
            "  warnings.warn(\"PySoundFile failed. Trying audioread instead.\")\n",
            "/usr/local/lib/python3.7/dist-packages/librosa/core/audio.py:165: UserWarning: PySoundFile failed. Trying audioread instead.\n",
            "  warnings.warn(\"PySoundFile failed. Trying audioread instead.\")\n",
            "/usr/local/lib/python3.7/dist-packages/librosa/core/audio.py:165: UserWarning: PySoundFile failed. Trying audioread instead.\n",
            "  warnings.warn(\"PySoundFile failed. Trying audioread instead.\")\n",
            "/usr/local/lib/python3.7/dist-packages/librosa/core/audio.py:165: UserWarning: PySoundFile failed. Trying audioread instead.\n",
            "  warnings.warn(\"PySoundFile failed. Trying audioread instead.\")\n",
            "/usr/local/lib/python3.7/dist-packages/librosa/core/audio.py:165: UserWarning: PySoundFile failed. Trying audioread instead.\n",
            "  warnings.warn(\"PySoundFile failed. Trying audioread instead.\")\n",
            "/usr/local/lib/python3.7/dist-packages/librosa/core/audio.py:165: UserWarning: PySoundFile failed. Trying audioread instead.\n",
            "  warnings.warn(\"PySoundFile failed. Trying audioread instead.\")\n",
            "/usr/local/lib/python3.7/dist-packages/librosa/core/audio.py:165: UserWarning: PySoundFile failed. Trying audioread instead.\n",
            "  warnings.warn(\"PySoundFile failed. Trying audioread instead.\")\n",
            "/usr/local/lib/python3.7/dist-packages/librosa/core/audio.py:165: UserWarning: PySoundFile failed. Trying audioread instead.\n",
            "  warnings.warn(\"PySoundFile failed. Trying audioread instead.\")\n",
            "/usr/local/lib/python3.7/dist-packages/librosa/core/audio.py:165: UserWarning: PySoundFile failed. Trying audioread instead.\n",
            "  warnings.warn(\"PySoundFile failed. Trying audioread instead.\")\n",
            "/usr/local/lib/python3.7/dist-packages/librosa/core/audio.py:165: UserWarning: PySoundFile failed. Trying audioread instead.\n",
            "  warnings.warn(\"PySoundFile failed. Trying audioread instead.\")\n",
            "/usr/local/lib/python3.7/dist-packages/librosa/core/audio.py:165: UserWarning: PySoundFile failed. Trying audioread instead.\n",
            "  warnings.warn(\"PySoundFile failed. Trying audioread instead.\")\n",
            "/usr/local/lib/python3.7/dist-packages/librosa/core/audio.py:165: UserWarning: PySoundFile failed. Trying audioread instead.\n",
            "  warnings.warn(\"PySoundFile failed. Trying audioread instead.\")\n",
            "/usr/local/lib/python3.7/dist-packages/librosa/core/audio.py:165: UserWarning: PySoundFile failed. Trying audioread instead.\n",
            "  warnings.warn(\"PySoundFile failed. Trying audioread instead.\")\n",
            "/usr/local/lib/python3.7/dist-packages/librosa/core/audio.py:165: UserWarning: PySoundFile failed. Trying audioread instead.\n",
            "  warnings.warn(\"PySoundFile failed. Trying audioread instead.\")\n",
            "/usr/local/lib/python3.7/dist-packages/librosa/core/audio.py:165: UserWarning: PySoundFile failed. Trying audioread instead.\n",
            "  warnings.warn(\"PySoundFile failed. Trying audioread instead.\")\n",
            "/usr/local/lib/python3.7/dist-packages/librosa/core/audio.py:165: UserWarning: PySoundFile failed. Trying audioread instead.\n",
            "  warnings.warn(\"PySoundFile failed. Trying audioread instead.\")\n",
            "/usr/local/lib/python3.7/dist-packages/librosa/core/audio.py:165: UserWarning: PySoundFile failed. Trying audioread instead.\n",
            "  warnings.warn(\"PySoundFile failed. Trying audioread instead.\")\n",
            "/usr/local/lib/python3.7/dist-packages/librosa/core/audio.py:165: UserWarning: PySoundFile failed. Trying audioread instead.\n",
            "  warnings.warn(\"PySoundFile failed. Trying audioread instead.\")\n",
            "/usr/local/lib/python3.7/dist-packages/librosa/core/audio.py:165: UserWarning: PySoundFile failed. Trying audioread instead.\n",
            "  warnings.warn(\"PySoundFile failed. Trying audioread instead.\")\n",
            "/usr/local/lib/python3.7/dist-packages/librosa/core/audio.py:165: UserWarning: PySoundFile failed. Trying audioread instead.\n",
            "  warnings.warn(\"PySoundFile failed. Trying audioread instead.\")\n",
            "/usr/local/lib/python3.7/dist-packages/librosa/core/audio.py:165: UserWarning: PySoundFile failed. Trying audioread instead.\n",
            "  warnings.warn(\"PySoundFile failed. Trying audioread instead.\")\n",
            "/usr/local/lib/python3.7/dist-packages/librosa/core/audio.py:165: UserWarning: PySoundFile failed. Trying audioread instead.\n",
            "  warnings.warn(\"PySoundFile failed. Trying audioread instead.\")\n",
            "/usr/local/lib/python3.7/dist-packages/librosa/core/audio.py:165: UserWarning: PySoundFile failed. Trying audioread instead.\n",
            "  warnings.warn(\"PySoundFile failed. Trying audioread instead.\")\n",
            "/usr/local/lib/python3.7/dist-packages/librosa/core/audio.py:165: UserWarning: PySoundFile failed. Trying audioread instead.\n",
            "  warnings.warn(\"PySoundFile failed. Trying audioread instead.\")\n",
            "/usr/local/lib/python3.7/dist-packages/librosa/core/audio.py:165: UserWarning: PySoundFile failed. Trying audioread instead.\n",
            "  warnings.warn(\"PySoundFile failed. Trying audioread instead.\")\n",
            "/usr/local/lib/python3.7/dist-packages/librosa/core/audio.py:165: UserWarning: PySoundFile failed. Trying audioread instead.\n",
            "  warnings.warn(\"PySoundFile failed. Trying audioread instead.\")\n",
            "/usr/local/lib/python3.7/dist-packages/librosa/core/audio.py:165: UserWarning: PySoundFile failed. Trying audioread instead.\n",
            "  warnings.warn(\"PySoundFile failed. Trying audioread instead.\")\n",
            "/usr/local/lib/python3.7/dist-packages/librosa/core/audio.py:165: UserWarning: PySoundFile failed. Trying audioread instead.\n",
            "  warnings.warn(\"PySoundFile failed. Trying audioread instead.\")\n",
            "/usr/local/lib/python3.7/dist-packages/librosa/core/audio.py:165: UserWarning: PySoundFile failed. Trying audioread instead.\n",
            "  warnings.warn(\"PySoundFile failed. Trying audioread instead.\")\n",
            "/usr/local/lib/python3.7/dist-packages/librosa/core/audio.py:165: UserWarning: PySoundFile failed. Trying audioread instead.\n",
            "  warnings.warn(\"PySoundFile failed. Trying audioread instead.\")\n",
            "/usr/local/lib/python3.7/dist-packages/librosa/core/audio.py:165: UserWarning: PySoundFile failed. Trying audioread instead.\n",
            "  warnings.warn(\"PySoundFile failed. Trying audioread instead.\")\n",
            "/usr/local/lib/python3.7/dist-packages/librosa/core/audio.py:165: UserWarning: PySoundFile failed. Trying audioread instead.\n",
            "  warnings.warn(\"PySoundFile failed. Trying audioread instead.\")\n",
            "/usr/local/lib/python3.7/dist-packages/librosa/core/audio.py:165: UserWarning: PySoundFile failed. Trying audioread instead.\n",
            "  warnings.warn(\"PySoundFile failed. Trying audioread instead.\")\n",
            "/usr/local/lib/python3.7/dist-packages/librosa/core/audio.py:165: UserWarning: PySoundFile failed. Trying audioread instead.\n",
            "  warnings.warn(\"PySoundFile failed. Trying audioread instead.\")\n"
          ]
        },
        {
          "output_type": "execute_result",
          "data": {
            "text/plain": [
              "47"
            ]
          },
          "metadata": {},
          "execution_count": 13
        }
      ]
    },
    {
      "cell_type": "code",
      "source": [
        "# Folder Path\n",
        "path = \"/content/drive/MyDrive/Mini Project/Dataset/Audio/Non Abusive\"\n",
        "\n",
        "Features_Non_Abusive = []\n",
        "# Change the directory\n",
        "os.chdir(path)\n",
        "# iterate through all file\n",
        "for file in os.listdir():\n",
        "    # Check whether file is in text format or not\n",
        "    if file.endswith(\".mp3\"):\n",
        "        file_path = f\"{path}/{file}\"\n",
        "  \n",
        "        # call read text file function\n",
        "        Features_Non_Abusive.append(get_features(file_path))\n",
        "len(Features_Non_Abusive)"
      ],
      "metadata": {
        "colab": {
          "base_uri": "https://localhost:8080/"
        },
        "id": "RI0Y_QcHa2T1",
        "outputId": "c1bf25c3-798b-4b9c-85a2-9f47d0aca77c"
      },
      "execution_count": 14,
      "outputs": [
        {
          "output_type": "stream",
          "name": "stderr",
          "text": [
            "/usr/local/lib/python3.7/dist-packages/librosa/core/audio.py:165: UserWarning: PySoundFile failed. Trying audioread instead.\n",
            "  warnings.warn(\"PySoundFile failed. Trying audioread instead.\")\n",
            "/usr/local/lib/python3.7/dist-packages/librosa/core/audio.py:165: UserWarning: PySoundFile failed. Trying audioread instead.\n",
            "  warnings.warn(\"PySoundFile failed. Trying audioread instead.\")\n",
            "/usr/local/lib/python3.7/dist-packages/librosa/core/audio.py:165: UserWarning: PySoundFile failed. Trying audioread instead.\n",
            "  warnings.warn(\"PySoundFile failed. Trying audioread instead.\")\n",
            "/usr/local/lib/python3.7/dist-packages/librosa/core/audio.py:165: UserWarning: PySoundFile failed. Trying audioread instead.\n",
            "  warnings.warn(\"PySoundFile failed. Trying audioread instead.\")\n",
            "/usr/local/lib/python3.7/dist-packages/librosa/core/audio.py:165: UserWarning: PySoundFile failed. Trying audioread instead.\n",
            "  warnings.warn(\"PySoundFile failed. Trying audioread instead.\")\n",
            "/usr/local/lib/python3.7/dist-packages/librosa/core/audio.py:165: UserWarning: PySoundFile failed. Trying audioread instead.\n",
            "  warnings.warn(\"PySoundFile failed. Trying audioread instead.\")\n",
            "/usr/local/lib/python3.7/dist-packages/librosa/core/audio.py:165: UserWarning: PySoundFile failed. Trying audioread instead.\n",
            "  warnings.warn(\"PySoundFile failed. Trying audioread instead.\")\n",
            "/usr/local/lib/python3.7/dist-packages/librosa/core/audio.py:165: UserWarning: PySoundFile failed. Trying audioread instead.\n",
            "  warnings.warn(\"PySoundFile failed. Trying audioread instead.\")\n",
            "/usr/local/lib/python3.7/dist-packages/librosa/core/audio.py:165: UserWarning: PySoundFile failed. Trying audioread instead.\n",
            "  warnings.warn(\"PySoundFile failed. Trying audioread instead.\")\n",
            "/usr/local/lib/python3.7/dist-packages/librosa/core/audio.py:165: UserWarning: PySoundFile failed. Trying audioread instead.\n",
            "  warnings.warn(\"PySoundFile failed. Trying audioread instead.\")\n",
            "/usr/local/lib/python3.7/dist-packages/librosa/core/audio.py:165: UserWarning: PySoundFile failed. Trying audioread instead.\n",
            "  warnings.warn(\"PySoundFile failed. Trying audioread instead.\")\n",
            "/usr/local/lib/python3.7/dist-packages/librosa/core/audio.py:165: UserWarning: PySoundFile failed. Trying audioread instead.\n",
            "  warnings.warn(\"PySoundFile failed. Trying audioread instead.\")\n",
            "/usr/local/lib/python3.7/dist-packages/librosa/core/audio.py:165: UserWarning: PySoundFile failed. Trying audioread instead.\n",
            "  warnings.warn(\"PySoundFile failed. Trying audioread instead.\")\n",
            "/usr/local/lib/python3.7/dist-packages/librosa/core/audio.py:165: UserWarning: PySoundFile failed. Trying audioread instead.\n",
            "  warnings.warn(\"PySoundFile failed. Trying audioread instead.\")\n",
            "/usr/local/lib/python3.7/dist-packages/librosa/core/audio.py:165: UserWarning: PySoundFile failed. Trying audioread instead.\n",
            "  warnings.warn(\"PySoundFile failed. Trying audioread instead.\")\n",
            "/usr/local/lib/python3.7/dist-packages/librosa/core/audio.py:165: UserWarning: PySoundFile failed. Trying audioread instead.\n",
            "  warnings.warn(\"PySoundFile failed. Trying audioread instead.\")\n",
            "/usr/local/lib/python3.7/dist-packages/librosa/core/audio.py:165: UserWarning: PySoundFile failed. Trying audioread instead.\n",
            "  warnings.warn(\"PySoundFile failed. Trying audioread instead.\")\n",
            "/usr/local/lib/python3.7/dist-packages/librosa/core/audio.py:165: UserWarning: PySoundFile failed. Trying audioread instead.\n",
            "  warnings.warn(\"PySoundFile failed. Trying audioread instead.\")\n",
            "/usr/local/lib/python3.7/dist-packages/librosa/core/audio.py:165: UserWarning: PySoundFile failed. Trying audioread instead.\n",
            "  warnings.warn(\"PySoundFile failed. Trying audioread instead.\")\n",
            "/usr/local/lib/python3.7/dist-packages/librosa/core/audio.py:165: UserWarning: PySoundFile failed. Trying audioread instead.\n",
            "  warnings.warn(\"PySoundFile failed. Trying audioread instead.\")\n",
            "/usr/local/lib/python3.7/dist-packages/librosa/core/audio.py:165: UserWarning: PySoundFile failed. Trying audioread instead.\n",
            "  warnings.warn(\"PySoundFile failed. Trying audioread instead.\")\n",
            "/usr/local/lib/python3.7/dist-packages/librosa/core/audio.py:165: UserWarning: PySoundFile failed. Trying audioread instead.\n",
            "  warnings.warn(\"PySoundFile failed. Trying audioread instead.\")\n",
            "/usr/local/lib/python3.7/dist-packages/librosa/core/audio.py:165: UserWarning: PySoundFile failed. Trying audioread instead.\n",
            "  warnings.warn(\"PySoundFile failed. Trying audioread instead.\")\n",
            "/usr/local/lib/python3.7/dist-packages/librosa/core/audio.py:165: UserWarning: PySoundFile failed. Trying audioread instead.\n",
            "  warnings.warn(\"PySoundFile failed. Trying audioread instead.\")\n",
            "/usr/local/lib/python3.7/dist-packages/librosa/core/audio.py:165: UserWarning: PySoundFile failed. Trying audioread instead.\n",
            "  warnings.warn(\"PySoundFile failed. Trying audioread instead.\")\n",
            "/usr/local/lib/python3.7/dist-packages/librosa/core/audio.py:165: UserWarning: PySoundFile failed. Trying audioread instead.\n",
            "  warnings.warn(\"PySoundFile failed. Trying audioread instead.\")\n",
            "/usr/local/lib/python3.7/dist-packages/librosa/core/audio.py:165: UserWarning: PySoundFile failed. Trying audioread instead.\n",
            "  warnings.warn(\"PySoundFile failed. Trying audioread instead.\")\n",
            "/usr/local/lib/python3.7/dist-packages/librosa/core/audio.py:165: UserWarning: PySoundFile failed. Trying audioread instead.\n",
            "  warnings.warn(\"PySoundFile failed. Trying audioread instead.\")\n",
            "/usr/local/lib/python3.7/dist-packages/librosa/core/audio.py:165: UserWarning: PySoundFile failed. Trying audioread instead.\n",
            "  warnings.warn(\"PySoundFile failed. Trying audioread instead.\")\n",
            "/usr/local/lib/python3.7/dist-packages/librosa/core/audio.py:165: UserWarning: PySoundFile failed. Trying audioread instead.\n",
            "  warnings.warn(\"PySoundFile failed. Trying audioread instead.\")\n",
            "/usr/local/lib/python3.7/dist-packages/librosa/core/audio.py:165: UserWarning: PySoundFile failed. Trying audioread instead.\n",
            "  warnings.warn(\"PySoundFile failed. Trying audioread instead.\")\n",
            "/usr/local/lib/python3.7/dist-packages/librosa/core/audio.py:165: UserWarning: PySoundFile failed. Trying audioread instead.\n",
            "  warnings.warn(\"PySoundFile failed. Trying audioread instead.\")\n",
            "/usr/local/lib/python3.7/dist-packages/librosa/core/audio.py:165: UserWarning: PySoundFile failed. Trying audioread instead.\n",
            "  warnings.warn(\"PySoundFile failed. Trying audioread instead.\")\n",
            "/usr/local/lib/python3.7/dist-packages/librosa/core/audio.py:165: UserWarning: PySoundFile failed. Trying audioread instead.\n",
            "  warnings.warn(\"PySoundFile failed. Trying audioread instead.\")\n",
            "/usr/local/lib/python3.7/dist-packages/librosa/core/audio.py:165: UserWarning: PySoundFile failed. Trying audioread instead.\n",
            "  warnings.warn(\"PySoundFile failed. Trying audioread instead.\")\n",
            "/usr/local/lib/python3.7/dist-packages/librosa/core/audio.py:165: UserWarning: PySoundFile failed. Trying audioread instead.\n",
            "  warnings.warn(\"PySoundFile failed. Trying audioread instead.\")\n",
            "/usr/local/lib/python3.7/dist-packages/librosa/core/audio.py:165: UserWarning: PySoundFile failed. Trying audioread instead.\n",
            "  warnings.warn(\"PySoundFile failed. Trying audioread instead.\")\n",
            "/usr/local/lib/python3.7/dist-packages/librosa/core/audio.py:165: UserWarning: PySoundFile failed. Trying audioread instead.\n",
            "  warnings.warn(\"PySoundFile failed. Trying audioread instead.\")\n",
            "/usr/local/lib/python3.7/dist-packages/librosa/core/audio.py:165: UserWarning: PySoundFile failed. Trying audioread instead.\n",
            "  warnings.warn(\"PySoundFile failed. Trying audioread instead.\")\n",
            "/usr/local/lib/python3.7/dist-packages/librosa/core/audio.py:165: UserWarning: PySoundFile failed. Trying audioread instead.\n",
            "  warnings.warn(\"PySoundFile failed. Trying audioread instead.\")\n",
            "/usr/local/lib/python3.7/dist-packages/librosa/core/audio.py:165: UserWarning: PySoundFile failed. Trying audioread instead.\n",
            "  warnings.warn(\"PySoundFile failed. Trying audioread instead.\")\n"
          ]
        },
        {
          "output_type": "execute_result",
          "data": {
            "text/plain": [
              "41"
            ]
          },
          "metadata": {},
          "execution_count": 14
        }
      ]
    },
    {
      "cell_type": "code",
      "source": [
        "Features = Features_Abusive + Features_Non_Abusive\n",
        "len(Features)"
      ],
      "metadata": {
        "colab": {
          "base_uri": "https://localhost:8080/"
        },
        "id": "hJhv79IgbeMd",
        "outputId": "cf1f7f62-480a-47b5-c02c-02dcacb3c8c2"
      },
      "execution_count": 15,
      "outputs": [
        {
          "output_type": "execute_result",
          "data": {
            "text/plain": [
              "88"
            ]
          },
          "metadata": {},
          "execution_count": 15
        }
      ]
    },
    {
      "cell_type": "code",
      "source": [
        "from sklearn.model_selection import train_test_split\n",
        "from sklearn.preprocessing import LabelEncoder"
      ],
      "metadata": {
        "id": "di-NI4Ifb-N9"
      },
      "execution_count": 16,
      "outputs": []
    },
    {
      "cell_type": "code",
      "source": [
        "Features = np.array(Features)"
      ],
      "metadata": {
        "id": "U-BzxBogdA11"
      },
      "execution_count": 17,
      "outputs": []
    },
    {
      "cell_type": "code",
      "source": [
        "encoder = LabelEncoder()\n",
        "encoder.fit(Y_data)\n",
        "encoded_labels = encoder.transform(Y_data)"
      ],
      "metadata": {
        "id": "COVXBwNEb-6B"
      },
      "execution_count": 18,
      "outputs": []
    },
    {
      "cell_type": "code",
      "source": [
        "X_train, X_temp, y_train, y_temp = train_test_split(Features, encoded_labels, test_size = 0.2)\n",
        "X_test, X_val, y_test, y_val = train_test_split(X_temp, y_temp, test_size = 0.5)"
      ],
      "metadata": {
        "id": "eaAlnmkybr1r"
      },
      "execution_count": 19,
      "outputs": []
    },
    {
      "cell_type": "code",
      "source": [
        "from tensorflow import keras\n",
        "from tensorflow.keras.models import Sequential\n",
        "from tensorflow.keras.layers import Dense\n",
        "from tensorflow.keras.wrappers.scikit_learn import KerasClassifier\n",
        "from sklearn.preprocessing import LabelEncoder"
      ],
      "metadata": {
        "id": "NUPSxh4yb9ud"
      },
      "execution_count": 20,
      "outputs": []
    },
    {
      "cell_type": "code",
      "source": [
        "X_data = np.array(X_data)"
      ],
      "metadata": {
        "colab": {
          "base_uri": "https://localhost:8080/"
        },
        "id": "8irZnlWgcife",
        "outputId": "de6d0ba4-01fa-433f-d9eb-ac7d5699ef5d"
      },
      "execution_count": 21,
      "outputs": [
        {
          "output_type": "stream",
          "name": "stderr",
          "text": [
            "/usr/local/lib/python3.7/dist-packages/ipykernel_launcher.py:1: VisibleDeprecationWarning: Creating an ndarray from ragged nested sequences (which is a list-or-tuple of lists-or-tuples-or ndarrays with different lengths or shapes) is deprecated. If you meant to do this, you must specify 'dtype=object' when creating the ndarray.\n",
            "  \"\"\"Entry point for launching an IPython kernel.\n"
          ]
        }
      ]
    },
    {
      "cell_type": "markdown",
      "source": [
        "**Baseline Model**"
      ],
      "metadata": {
        "id": "spngJJ-IeF4L"
      }
    },
    {
      "cell_type": "code",
      "source": [
        "# baseline model\n",
        "def create_baseline():\n",
        "    # create model\n",
        "    model = Sequential()\n",
        "    model.add(Dense(60, input_shape=(None, X_train.shape[1]), activation='relu')) # one hidden layer\n",
        "    model.add(Dense(1, activation='sigmoid'))\n",
        "    # Compile model\n",
        "    model.compile(loss='binary_crossentropy', optimizer='adam', metrics=['accuracy'])\n",
        "    return model"
      ],
      "metadata": {
        "id": "gWW8m6J0cXu4"
      },
      "execution_count": 22,
      "outputs": []
    },
    {
      "cell_type": "code",
      "source": [
        "model = create_baseline()"
      ],
      "metadata": {
        "id": "j3sz9siwcZcI"
      },
      "execution_count": 23,
      "outputs": []
    },
    {
      "cell_type": "code",
      "source": [
        "model.summary()"
      ],
      "metadata": {
        "colab": {
          "base_uri": "https://localhost:8080/"
        },
        "id": "ngwO7twtca5H",
        "outputId": "84374759-d834-430e-96e7-5961fe630782"
      },
      "execution_count": 24,
      "outputs": [
        {
          "output_type": "stream",
          "name": "stdout",
          "text": [
            "Model: \"sequential\"\n",
            "_________________________________________________________________\n",
            " Layer (type)                Output Shape              Param #   \n",
            "=================================================================\n",
            " dense (Dense)               (None, None, 60)          10860     \n",
            "                                                                 \n",
            " dense_1 (Dense)             (None, None, 1)           61        \n",
            "                                                                 \n",
            "=================================================================\n",
            "Total params: 10,921\n",
            "Trainable params: 10,921\n",
            "Non-trainable params: 0\n",
            "_________________________________________________________________\n"
          ]
        }
      ]
    },
    {
      "cell_type": "code",
      "source": [
        "model.fit(X_train, y_train, batch_size=4, epochs=150, verbose=1, validation_data=(X_val, y_val), shuffle = True)"
      ],
      "metadata": {
        "colab": {
          "base_uri": "https://localhost:8080/"
        },
        "id": "AABQs0Smcn_g",
        "outputId": "fa3a0030-8f4a-4776-abf7-4bf75b47684b"
      },
      "execution_count": 25,
      "outputs": [
        {
          "output_type": "stream",
          "name": "stdout",
          "text": [
            "Epoch 1/150\n"
          ]
        },
        {
          "output_type": "stream",
          "name": "stderr",
          "text": [
            "WARNING:tensorflow:Model was constructed with shape (None, None, 180) for input KerasTensor(type_spec=TensorSpec(shape=(None, None, 180), dtype=tf.float32, name='dense_input'), name='dense_input', description=\"created by layer 'dense_input'\"), but it was called on an input with incompatible shape (None, 180).\n",
            "WARNING:tensorflow:Model was constructed with shape (None, None, 180) for input KerasTensor(type_spec=TensorSpec(shape=(None, None, 180), dtype=tf.float32, name='dense_input'), name='dense_input', description=\"created by layer 'dense_input'\"), but it was called on an input with incompatible shape (None, 180).\n"
          ]
        },
        {
          "output_type": "stream",
          "name": "stdout",
          "text": [
            "16/18 [=========================>....] - ETA: 0s - loss: 4.6376 - accuracy: 0.4531 "
          ]
        },
        {
          "output_type": "stream",
          "name": "stderr",
          "text": [
            "WARNING:tensorflow:Model was constructed with shape (None, None, 180) for input KerasTensor(type_spec=TensorSpec(shape=(None, None, 180), dtype=tf.float32, name='dense_input'), name='dense_input', description=\"created by layer 'dense_input'\"), but it was called on an input with incompatible shape (None, 180).\n"
          ]
        },
        {
          "output_type": "stream",
          "name": "stdout",
          "text": [
            "\b\b\b\b\b\b\b\b\b\b\b\b\b\b\b\b\b\b\b\b\b\b\b\b\b\b\b\b\b\b\b\b\b\b\b\b\b\b\b\b\b\b\b\b\b\b\b\b\b\b\b\b\b\b\b\b\b\b\b\b\b\b\b\b\b\b\b\b\b\b\b\b\b\b\b\b\b\b\b\b\b\b\r18/18 [==============================] - 1s 14ms/step - loss: 4.2829 - accuracy: 0.4714 - val_loss: 5.2122 - val_accuracy: 0.5556\n",
            "Epoch 2/150\n",
            "18/18 [==============================] - 0s 4ms/step - loss: 3.0480 - accuracy: 0.6143 - val_loss: 3.0713 - val_accuracy: 0.5556\n",
            "Epoch 3/150\n",
            "18/18 [==============================] - 0s 4ms/step - loss: 1.0618 - accuracy: 0.7714 - val_loss: 1.3013 - val_accuracy: 0.6667\n",
            "Epoch 4/150\n",
            "18/18 [==============================] - 0s 5ms/step - loss: 0.5720 - accuracy: 0.8714 - val_loss: 1.3981 - val_accuracy: 0.5556\n",
            "Epoch 5/150\n",
            "18/18 [==============================] - 0s 4ms/step - loss: 0.4520 - accuracy: 0.8714 - val_loss: 1.4059 - val_accuracy: 0.5556\n",
            "Epoch 6/150\n",
            "18/18 [==============================] - 0s 4ms/step - loss: 0.3939 - accuracy: 0.8571 - val_loss: 1.4072 - val_accuracy: 0.5556\n",
            "Epoch 7/150\n",
            "18/18 [==============================] - 0s 4ms/step - loss: 0.2910 - accuracy: 0.9143 - val_loss: 1.2520 - val_accuracy: 0.6667\n",
            "Epoch 8/150\n",
            "18/18 [==============================] - 0s 4ms/step - loss: 0.2129 - accuracy: 0.9143 - val_loss: 1.3508 - val_accuracy: 0.6667\n",
            "Epoch 9/150\n",
            "18/18 [==============================] - 0s 4ms/step - loss: 0.1563 - accuracy: 0.9714 - val_loss: 1.2443 - val_accuracy: 0.5556\n",
            "Epoch 10/150\n",
            "18/18 [==============================] - 0s 4ms/step - loss: 0.1895 - accuracy: 0.9429 - val_loss: 1.2321 - val_accuracy: 0.5556\n",
            "Epoch 11/150\n",
            "18/18 [==============================] - 0s 4ms/step - loss: 0.1321 - accuracy: 0.9429 - val_loss: 1.1344 - val_accuracy: 0.5556\n",
            "Epoch 12/150\n",
            "18/18 [==============================] - 0s 5ms/step - loss: 0.0957 - accuracy: 0.9714 - val_loss: 0.9988 - val_accuracy: 0.5556\n",
            "Epoch 13/150\n",
            "18/18 [==============================] - 0s 6ms/step - loss: 0.0810 - accuracy: 0.9714 - val_loss: 1.0244 - val_accuracy: 0.6667\n",
            "Epoch 14/150\n",
            "18/18 [==============================] - 0s 4ms/step - loss: 0.0675 - accuracy: 0.9857 - val_loss: 0.9854 - val_accuracy: 0.5556\n",
            "Epoch 15/150\n",
            "18/18 [==============================] - 0s 4ms/step - loss: 0.0618 - accuracy: 0.9857 - val_loss: 0.9388 - val_accuracy: 0.6667\n",
            "Epoch 16/150\n",
            "18/18 [==============================] - 0s 5ms/step - loss: 0.0641 - accuracy: 0.9857 - val_loss: 0.9320 - val_accuracy: 0.6667\n",
            "Epoch 17/150\n",
            "18/18 [==============================] - 0s 5ms/step - loss: 0.0663 - accuracy: 0.9714 - val_loss: 0.9760 - val_accuracy: 0.6667\n",
            "Epoch 18/150\n",
            "18/18 [==============================] - 0s 4ms/step - loss: 0.0724 - accuracy: 0.9714 - val_loss: 0.9782 - val_accuracy: 0.5556\n",
            "Epoch 19/150\n",
            "18/18 [==============================] - 0s 5ms/step - loss: 0.0466 - accuracy: 0.9857 - val_loss: 0.9063 - val_accuracy: 0.5556\n",
            "Epoch 20/150\n",
            "18/18 [==============================] - 0s 4ms/step - loss: 0.0624 - accuracy: 0.9714 - val_loss: 0.8870 - val_accuracy: 0.6667\n",
            "Epoch 21/150\n",
            "18/18 [==============================] - 0s 5ms/step - loss: 0.0586 - accuracy: 0.9714 - val_loss: 0.8934 - val_accuracy: 0.6667\n",
            "Epoch 22/150\n",
            "18/18 [==============================] - 0s 4ms/step - loss: 0.0663 - accuracy: 0.9714 - val_loss: 0.8507 - val_accuracy: 0.6667\n",
            "Epoch 23/150\n",
            "18/18 [==============================] - 0s 4ms/step - loss: 0.0786 - accuracy: 0.9571 - val_loss: 0.7951 - val_accuracy: 0.6667\n",
            "Epoch 24/150\n",
            "18/18 [==============================] - 0s 4ms/step - loss: 0.0646 - accuracy: 0.9857 - val_loss: 0.8698 - val_accuracy: 0.6667\n",
            "Epoch 25/150\n",
            "18/18 [==============================] - 0s 4ms/step - loss: 0.0633 - accuracy: 0.9857 - val_loss: 0.7914 - val_accuracy: 0.6667\n",
            "Epoch 26/150\n",
            "18/18 [==============================] - 0s 4ms/step - loss: 0.0610 - accuracy: 0.9857 - val_loss: 0.8841 - val_accuracy: 0.7778\n",
            "Epoch 27/150\n",
            "18/18 [==============================] - 0s 4ms/step - loss: 0.1237 - accuracy: 0.9143 - val_loss: 0.7025 - val_accuracy: 0.6667\n",
            "Epoch 28/150\n",
            "18/18 [==============================] - 0s 4ms/step - loss: 0.0476 - accuracy: 0.9857 - val_loss: 0.6456 - val_accuracy: 0.7778\n",
            "Epoch 29/150\n",
            "18/18 [==============================] - 0s 4ms/step - loss: 0.0474 - accuracy: 0.9857 - val_loss: 0.7180 - val_accuracy: 0.7778\n",
            "Epoch 30/150\n",
            "18/18 [==============================] - 0s 5ms/step - loss: 0.0913 - accuracy: 0.9714 - val_loss: 0.7403 - val_accuracy: 0.7778\n",
            "Epoch 31/150\n",
            "18/18 [==============================] - 0s 4ms/step - loss: 0.0707 - accuracy: 0.9714 - val_loss: 0.6455 - val_accuracy: 0.6667\n",
            "Epoch 32/150\n",
            "18/18 [==============================] - 0s 4ms/step - loss: 0.0370 - accuracy: 0.9857 - val_loss: 0.7109 - val_accuracy: 0.7778\n",
            "Epoch 33/150\n",
            "18/18 [==============================] - 0s 4ms/step - loss: 0.0234 - accuracy: 1.0000 - val_loss: 0.6167 - val_accuracy: 0.7778\n",
            "Epoch 34/150\n",
            "18/18 [==============================] - 0s 4ms/step - loss: 0.0269 - accuracy: 1.0000 - val_loss: 0.6694 - val_accuracy: 0.7778\n",
            "Epoch 35/150\n",
            "18/18 [==============================] - 0s 4ms/step - loss: 0.0232 - accuracy: 1.0000 - val_loss: 0.6604 - val_accuracy: 0.6667\n",
            "Epoch 36/150\n",
            "18/18 [==============================] - 0s 5ms/step - loss: 0.0300 - accuracy: 0.9857 - val_loss: 0.6543 - val_accuracy: 0.6667\n",
            "Epoch 37/150\n",
            "18/18 [==============================] - 0s 4ms/step - loss: 0.0253 - accuracy: 1.0000 - val_loss: 0.6615 - val_accuracy: 0.7778\n",
            "Epoch 38/150\n",
            "18/18 [==============================] - 0s 5ms/step - loss: 0.0266 - accuracy: 0.9857 - val_loss: 0.6239 - val_accuracy: 0.6667\n",
            "Epoch 39/150\n",
            "18/18 [==============================] - 0s 4ms/step - loss: 0.0189 - accuracy: 1.0000 - val_loss: 0.5577 - val_accuracy: 0.7778\n",
            "Epoch 40/150\n",
            "18/18 [==============================] - 0s 5ms/step - loss: 0.0174 - accuracy: 1.0000 - val_loss: 0.5835 - val_accuracy: 0.7778\n",
            "Epoch 41/150\n",
            "18/18 [==============================] - 0s 4ms/step - loss: 0.0171 - accuracy: 1.0000 - val_loss: 0.5985 - val_accuracy: 0.7778\n",
            "Epoch 42/150\n",
            "18/18 [==============================] - 0s 4ms/step - loss: 0.0221 - accuracy: 1.0000 - val_loss: 0.5638 - val_accuracy: 0.7778\n",
            "Epoch 43/150\n",
            "18/18 [==============================] - 0s 4ms/step - loss: 0.0207 - accuracy: 1.0000 - val_loss: 0.4811 - val_accuracy: 0.7778\n",
            "Epoch 44/150\n",
            "18/18 [==============================] - 0s 4ms/step - loss: 0.0260 - accuracy: 1.0000 - val_loss: 0.6476 - val_accuracy: 0.7778\n",
            "Epoch 45/150\n",
            "18/18 [==============================] - 0s 4ms/step - loss: 0.0190 - accuracy: 1.0000 - val_loss: 0.5315 - val_accuracy: 0.7778\n",
            "Epoch 46/150\n",
            "18/18 [==============================] - 0s 5ms/step - loss: 0.0134 - accuracy: 1.0000 - val_loss: 0.5341 - val_accuracy: 0.7778\n",
            "Epoch 47/150\n",
            "18/18 [==============================] - 0s 5ms/step - loss: 0.0149 - accuracy: 1.0000 - val_loss: 0.5488 - val_accuracy: 0.7778\n",
            "Epoch 48/150\n",
            "18/18 [==============================] - 0s 4ms/step - loss: 0.0153 - accuracy: 1.0000 - val_loss: 0.5337 - val_accuracy: 0.7778\n",
            "Epoch 49/150\n",
            "18/18 [==============================] - 0s 4ms/step - loss: 0.0170 - accuracy: 1.0000 - val_loss: 0.5582 - val_accuracy: 0.7778\n",
            "Epoch 50/150\n",
            "18/18 [==============================] - 0s 4ms/step - loss: 0.0231 - accuracy: 1.0000 - val_loss: 0.5782 - val_accuracy: 0.7778\n",
            "Epoch 51/150\n",
            "18/18 [==============================] - 0s 4ms/step - loss: 0.0271 - accuracy: 1.0000 - val_loss: 0.7039 - val_accuracy: 0.6667\n",
            "Epoch 52/150\n",
            "18/18 [==============================] - 0s 4ms/step - loss: 0.1058 - accuracy: 0.9571 - val_loss: 0.5620 - val_accuracy: 0.7778\n",
            "Epoch 53/150\n",
            "18/18 [==============================] - 0s 4ms/step - loss: 0.0420 - accuracy: 0.9714 - val_loss: 0.3657 - val_accuracy: 0.7778\n",
            "Epoch 54/150\n",
            "18/18 [==============================] - 0s 4ms/step - loss: 0.0189 - accuracy: 1.0000 - val_loss: 0.5290 - val_accuracy: 0.7778\n",
            "Epoch 55/150\n",
            "18/18 [==============================] - 0s 4ms/step - loss: 0.0117 - accuracy: 1.0000 - val_loss: 0.5416 - val_accuracy: 0.7778\n",
            "Epoch 56/150\n",
            "18/18 [==============================] - 0s 4ms/step - loss: 0.0105 - accuracy: 1.0000 - val_loss: 0.5054 - val_accuracy: 0.7778\n",
            "Epoch 57/150\n",
            "18/18 [==============================] - 0s 5ms/step - loss: 0.0105 - accuracy: 1.0000 - val_loss: 0.5204 - val_accuracy: 0.7778\n",
            "Epoch 58/150\n",
            "18/18 [==============================] - 0s 4ms/step - loss: 0.0085 - accuracy: 1.0000 - val_loss: 0.5081 - val_accuracy: 0.7778\n",
            "Epoch 59/150\n",
            "18/18 [==============================] - 0s 4ms/step - loss: 0.0100 - accuracy: 1.0000 - val_loss: 0.5254 - val_accuracy: 0.7778\n",
            "Epoch 60/150\n",
            "18/18 [==============================] - 0s 4ms/step - loss: 0.0089 - accuracy: 1.0000 - val_loss: 0.4983 - val_accuracy: 0.7778\n",
            "Epoch 61/150\n",
            "18/18 [==============================] - 0s 5ms/step - loss: 0.0092 - accuracy: 1.0000 - val_loss: 0.5127 - val_accuracy: 0.7778\n",
            "Epoch 62/150\n",
            "18/18 [==============================] - 0s 5ms/step - loss: 0.0101 - accuracy: 1.0000 - val_loss: 0.4951 - val_accuracy: 0.7778\n",
            "Epoch 63/150\n",
            "18/18 [==============================] - 0s 4ms/step - loss: 0.0085 - accuracy: 1.0000 - val_loss: 0.4888 - val_accuracy: 0.7778\n",
            "Epoch 64/150\n",
            "18/18 [==============================] - 0s 4ms/step - loss: 0.0080 - accuracy: 1.0000 - val_loss: 0.5039 - val_accuracy: 0.7778\n",
            "Epoch 65/150\n",
            "18/18 [==============================] - 0s 5ms/step - loss: 0.0098 - accuracy: 1.0000 - val_loss: 0.4636 - val_accuracy: 0.7778\n",
            "Epoch 66/150\n",
            "18/18 [==============================] - 0s 4ms/step - loss: 0.0065 - accuracy: 1.0000 - val_loss: 0.5561 - val_accuracy: 0.7778\n",
            "Epoch 67/150\n",
            "18/18 [==============================] - 0s 4ms/step - loss: 0.0103 - accuracy: 1.0000 - val_loss: 0.4779 - val_accuracy: 0.7778\n",
            "Epoch 68/150\n",
            "18/18 [==============================] - 0s 4ms/step - loss: 0.0071 - accuracy: 1.0000 - val_loss: 0.5088 - val_accuracy: 0.7778\n",
            "Epoch 69/150\n",
            "18/18 [==============================] - 0s 5ms/step - loss: 0.0073 - accuracy: 1.0000 - val_loss: 0.5108 - val_accuracy: 0.7778\n",
            "Epoch 70/150\n",
            "18/18 [==============================] - 0s 4ms/step - loss: 0.0066 - accuracy: 1.0000 - val_loss: 0.4674 - val_accuracy: 0.7778\n",
            "Epoch 71/150\n",
            "18/18 [==============================] - 0s 4ms/step - loss: 0.0107 - accuracy: 1.0000 - val_loss: 0.5049 - val_accuracy: 0.7778\n",
            "Epoch 72/150\n",
            "18/18 [==============================] - 0s 4ms/step - loss: 0.0090 - accuracy: 1.0000 - val_loss: 0.4291 - val_accuracy: 0.7778\n",
            "Epoch 73/150\n",
            "18/18 [==============================] - 0s 4ms/step - loss: 0.0187 - accuracy: 0.9857 - val_loss: 0.5206 - val_accuracy: 0.7778\n",
            "Epoch 74/150\n",
            "18/18 [==============================] - 0s 4ms/step - loss: 0.0188 - accuracy: 1.0000 - val_loss: 0.4141 - val_accuracy: 0.7778\n",
            "Epoch 75/150\n",
            "18/18 [==============================] - 0s 5ms/step - loss: 0.0069 - accuracy: 1.0000 - val_loss: 0.4755 - val_accuracy: 0.7778\n",
            "Epoch 76/150\n",
            "18/18 [==============================] - 0s 4ms/step - loss: 0.0055 - accuracy: 1.0000 - val_loss: 0.4617 - val_accuracy: 0.7778\n",
            "Epoch 77/150\n",
            "18/18 [==============================] - 0s 4ms/step - loss: 0.0059 - accuracy: 1.0000 - val_loss: 0.4346 - val_accuracy: 0.7778\n",
            "Epoch 78/150\n",
            "18/18 [==============================] - 0s 4ms/step - loss: 0.0070 - accuracy: 1.0000 - val_loss: 0.4699 - val_accuracy: 0.7778\n",
            "Epoch 79/150\n",
            "18/18 [==============================] - 0s 4ms/step - loss: 0.0090 - accuracy: 1.0000 - val_loss: 0.4466 - val_accuracy: 0.7778\n",
            "Epoch 80/150\n",
            "18/18 [==============================] - 0s 5ms/step - loss: 0.0070 - accuracy: 1.0000 - val_loss: 0.4620 - val_accuracy: 0.7778\n",
            "Epoch 81/150\n",
            "18/18 [==============================] - 0s 4ms/step - loss: 0.0049 - accuracy: 1.0000 - val_loss: 0.4189 - val_accuracy: 0.7778\n",
            "Epoch 82/150\n",
            "18/18 [==============================] - 0s 4ms/step - loss: 0.0055 - accuracy: 1.0000 - val_loss: 0.4680 - val_accuracy: 0.7778\n",
            "Epoch 83/150\n",
            "18/18 [==============================] - 0s 4ms/step - loss: 0.0059 - accuracy: 1.0000 - val_loss: 0.4545 - val_accuracy: 0.7778\n",
            "Epoch 84/150\n",
            "18/18 [==============================] - 0s 4ms/step - loss: 0.0067 - accuracy: 1.0000 - val_loss: 0.4412 - val_accuracy: 0.7778\n",
            "Epoch 85/150\n",
            "18/18 [==============================] - 0s 4ms/step - loss: 0.0056 - accuracy: 1.0000 - val_loss: 0.4069 - val_accuracy: 0.7778\n",
            "Epoch 86/150\n",
            "18/18 [==============================] - 0s 4ms/step - loss: 0.0051 - accuracy: 1.0000 - val_loss: 0.4836 - val_accuracy: 0.7778\n",
            "Epoch 87/150\n",
            "18/18 [==============================] - 0s 4ms/step - loss: 0.0051 - accuracy: 1.0000 - val_loss: 0.4423 - val_accuracy: 0.7778\n",
            "Epoch 88/150\n",
            "18/18 [==============================] - 0s 4ms/step - loss: 0.0049 - accuracy: 1.0000 - val_loss: 0.4643 - val_accuracy: 0.7778\n",
            "Epoch 89/150\n",
            "18/18 [==============================] - 0s 4ms/step - loss: 0.0062 - accuracy: 1.0000 - val_loss: 0.4406 - val_accuracy: 0.7778\n",
            "Epoch 90/150\n",
            "18/18 [==============================] - 0s 4ms/step - loss: 0.0055 - accuracy: 1.0000 - val_loss: 0.4323 - val_accuracy: 0.7778\n",
            "Epoch 91/150\n",
            "18/18 [==============================] - 0s 5ms/step - loss: 0.0048 - accuracy: 1.0000 - val_loss: 0.4318 - val_accuracy: 0.7778\n",
            "Epoch 92/150\n",
            "18/18 [==============================] - 0s 4ms/step - loss: 0.0040 - accuracy: 1.0000 - val_loss: 0.4561 - val_accuracy: 0.7778\n",
            "Epoch 93/150\n",
            "18/18 [==============================] - 0s 4ms/step - loss: 0.0041 - accuracy: 1.0000 - val_loss: 0.4301 - val_accuracy: 0.7778\n",
            "Epoch 94/150\n",
            "18/18 [==============================] - 0s 4ms/step - loss: 0.0041 - accuracy: 1.0000 - val_loss: 0.4278 - val_accuracy: 0.7778\n",
            "Epoch 95/150\n",
            "18/18 [==============================] - 0s 4ms/step - loss: 0.0045 - accuracy: 1.0000 - val_loss: 0.4292 - val_accuracy: 0.7778\n",
            "Epoch 96/150\n",
            "18/18 [==============================] - 0s 4ms/step - loss: 0.0064 - accuracy: 1.0000 - val_loss: 0.4420 - val_accuracy: 0.7778\n",
            "Epoch 97/150\n",
            "18/18 [==============================] - 0s 4ms/step - loss: 0.0063 - accuracy: 1.0000 - val_loss: 0.4679 - val_accuracy: 0.7778\n",
            "Epoch 98/150\n",
            "18/18 [==============================] - 0s 4ms/step - loss: 0.0045 - accuracy: 1.0000 - val_loss: 0.4226 - val_accuracy: 0.7778\n",
            "Epoch 99/150\n",
            "18/18 [==============================] - 0s 4ms/step - loss: 0.0041 - accuracy: 1.0000 - val_loss: 0.4012 - val_accuracy: 0.7778\n",
            "Epoch 100/150\n",
            "18/18 [==============================] - 0s 4ms/step - loss: 0.0037 - accuracy: 1.0000 - val_loss: 0.4353 - val_accuracy: 0.7778\n",
            "Epoch 101/150\n",
            "18/18 [==============================] - 0s 4ms/step - loss: 0.0044 - accuracy: 1.0000 - val_loss: 0.4095 - val_accuracy: 0.7778\n",
            "Epoch 102/150\n",
            "18/18 [==============================] - 0s 4ms/step - loss: 0.0056 - accuracy: 1.0000 - val_loss: 0.4421 - val_accuracy: 0.7778\n",
            "Epoch 103/150\n",
            "18/18 [==============================] - 0s 5ms/step - loss: 0.0038 - accuracy: 1.0000 - val_loss: 0.4121 - val_accuracy: 0.7778\n",
            "Epoch 104/150\n",
            "18/18 [==============================] - 0s 4ms/step - loss: 0.0050 - accuracy: 1.0000 - val_loss: 0.4587 - val_accuracy: 0.8889\n",
            "Epoch 105/150\n",
            "18/18 [==============================] - 0s 5ms/step - loss: 0.0031 - accuracy: 1.0000 - val_loss: 0.4163 - val_accuracy: 0.7778\n",
            "Epoch 106/150\n",
            "18/18 [==============================] - 0s 4ms/step - loss: 0.0047 - accuracy: 1.0000 - val_loss: 0.4307 - val_accuracy: 0.8889\n",
            "Epoch 107/150\n",
            "18/18 [==============================] - 0s 4ms/step - loss: 0.0032 - accuracy: 1.0000 - val_loss: 0.4391 - val_accuracy: 0.8889\n",
            "Epoch 108/150\n",
            "18/18 [==============================] - 0s 4ms/step - loss: 0.0032 - accuracy: 1.0000 - val_loss: 0.4373 - val_accuracy: 0.8889\n",
            "Epoch 109/150\n",
            "18/18 [==============================] - 0s 5ms/step - loss: 0.0054 - accuracy: 1.0000 - val_loss: 0.3541 - val_accuracy: 0.7778\n",
            "Epoch 110/150\n",
            "18/18 [==============================] - 0s 4ms/step - loss: 0.0029 - accuracy: 1.0000 - val_loss: 0.5056 - val_accuracy: 0.8889\n",
            "Epoch 111/150\n",
            "18/18 [==============================] - 0s 5ms/step - loss: 0.0046 - accuracy: 1.0000 - val_loss: 0.4078 - val_accuracy: 0.7778\n",
            "Epoch 112/150\n",
            "18/18 [==============================] - 0s 4ms/step - loss: 0.0034 - accuracy: 1.0000 - val_loss: 0.4231 - val_accuracy: 0.8889\n",
            "Epoch 113/150\n",
            "18/18 [==============================] - 0s 5ms/step - loss: 0.0029 - accuracy: 1.0000 - val_loss: 0.4085 - val_accuracy: 0.8889\n",
            "Epoch 114/150\n",
            "18/18 [==============================] - 0s 4ms/step - loss: 0.0030 - accuracy: 1.0000 - val_loss: 0.3958 - val_accuracy: 0.8889\n",
            "Epoch 115/150\n",
            "18/18 [==============================] - 0s 4ms/step - loss: 0.0028 - accuracy: 1.0000 - val_loss: 0.4114 - val_accuracy: 0.8889\n",
            "Epoch 116/150\n",
            "18/18 [==============================] - 0s 4ms/step - loss: 0.0027 - accuracy: 1.0000 - val_loss: 0.4509 - val_accuracy: 0.8889\n",
            "Epoch 117/150\n",
            "18/18 [==============================] - 0s 4ms/step - loss: 0.0031 - accuracy: 1.0000 - val_loss: 0.4358 - val_accuracy: 0.8889\n",
            "Epoch 118/150\n",
            "18/18 [==============================] - 0s 4ms/step - loss: 0.0032 - accuracy: 1.0000 - val_loss: 0.4250 - val_accuracy: 0.8889\n",
            "Epoch 119/150\n",
            "18/18 [==============================] - 0s 5ms/step - loss: 0.0031 - accuracy: 1.0000 - val_loss: 0.4120 - val_accuracy: 0.8889\n",
            "Epoch 120/150\n",
            "18/18 [==============================] - 0s 4ms/step - loss: 0.0027 - accuracy: 1.0000 - val_loss: 0.4560 - val_accuracy: 0.8889\n",
            "Epoch 121/150\n",
            "18/18 [==============================] - 0s 5ms/step - loss: 0.0028 - accuracy: 1.0000 - val_loss: 0.4548 - val_accuracy: 0.8889\n",
            "Epoch 122/150\n",
            "18/18 [==============================] - 0s 4ms/step - loss: 0.0029 - accuracy: 1.0000 - val_loss: 0.4268 - val_accuracy: 0.8889\n",
            "Epoch 123/150\n",
            "18/18 [==============================] - 0s 4ms/step - loss: 0.0026 - accuracy: 1.0000 - val_loss: 0.4218 - val_accuracy: 0.8889\n",
            "Epoch 124/150\n",
            "18/18 [==============================] - 0s 4ms/step - loss: 0.0029 - accuracy: 1.0000 - val_loss: 0.4486 - val_accuracy: 0.8889\n",
            "Epoch 125/150\n",
            "18/18 [==============================] - 0s 5ms/step - loss: 0.0038 - accuracy: 1.0000 - val_loss: 0.3974 - val_accuracy: 0.8889\n",
            "Epoch 126/150\n",
            "18/18 [==============================] - 0s 5ms/step - loss: 0.0029 - accuracy: 1.0000 - val_loss: 0.4336 - val_accuracy: 0.8889\n",
            "Epoch 127/150\n",
            "18/18 [==============================] - 0s 5ms/step - loss: 0.0025 - accuracy: 1.0000 - val_loss: 0.4313 - val_accuracy: 0.8889\n",
            "Epoch 128/150\n",
            "18/18 [==============================] - 0s 4ms/step - loss: 0.0026 - accuracy: 1.0000 - val_loss: 0.4188 - val_accuracy: 0.8889\n",
            "Epoch 129/150\n",
            "18/18 [==============================] - 0s 5ms/step - loss: 0.0027 - accuracy: 1.0000 - val_loss: 0.3936 - val_accuracy: 0.8889\n",
            "Epoch 130/150\n",
            "18/18 [==============================] - 0s 4ms/step - loss: 0.0021 - accuracy: 1.0000 - val_loss: 0.4536 - val_accuracy: 0.8889\n",
            "Epoch 131/150\n",
            "18/18 [==============================] - 0s 4ms/step - loss: 0.0025 - accuracy: 1.0000 - val_loss: 0.4258 - val_accuracy: 0.8889\n",
            "Epoch 132/150\n",
            "18/18 [==============================] - 0s 4ms/step - loss: 0.0024 - accuracy: 1.0000 - val_loss: 0.4327 - val_accuracy: 0.8889\n",
            "Epoch 133/150\n",
            "18/18 [==============================] - 0s 5ms/step - loss: 0.0023 - accuracy: 1.0000 - val_loss: 0.4364 - val_accuracy: 0.8889\n",
            "Epoch 134/150\n",
            "18/18 [==============================] - 0s 4ms/step - loss: 0.0028 - accuracy: 1.0000 - val_loss: 0.3929 - val_accuracy: 0.8889\n",
            "Epoch 135/150\n",
            "18/18 [==============================] - 0s 5ms/step - loss: 0.0023 - accuracy: 1.0000 - val_loss: 0.4257 - val_accuracy: 0.8889\n",
            "Epoch 136/150\n",
            "18/18 [==============================] - 0s 4ms/step - loss: 0.0021 - accuracy: 1.0000 - val_loss: 0.4159 - val_accuracy: 0.8889\n",
            "Epoch 137/150\n",
            "18/18 [==============================] - 0s 4ms/step - loss: 0.0020 - accuracy: 1.0000 - val_loss: 0.4203 - val_accuracy: 0.8889\n",
            "Epoch 138/150\n",
            "18/18 [==============================] - 0s 4ms/step - loss: 0.0023 - accuracy: 1.0000 - val_loss: 0.4188 - val_accuracy: 0.8889\n",
            "Epoch 139/150\n",
            "18/18 [==============================] - 0s 4ms/step - loss: 0.0021 - accuracy: 1.0000 - val_loss: 0.4130 - val_accuracy: 0.8889\n",
            "Epoch 140/150\n",
            "18/18 [==============================] - 0s 4ms/step - loss: 0.0024 - accuracy: 1.0000 - val_loss: 0.3665 - val_accuracy: 0.8889\n",
            "Epoch 141/150\n",
            "18/18 [==============================] - 0s 4ms/step - loss: 0.0022 - accuracy: 1.0000 - val_loss: 0.4542 - val_accuracy: 0.8889\n",
            "Epoch 142/150\n",
            "18/18 [==============================] - 0s 4ms/step - loss: 0.0021 - accuracy: 1.0000 - val_loss: 0.4308 - val_accuracy: 0.8889\n",
            "Epoch 143/150\n",
            "18/18 [==============================] - 0s 5ms/step - loss: 0.0019 - accuracy: 1.0000 - val_loss: 0.3930 - val_accuracy: 0.8889\n",
            "Epoch 144/150\n",
            "18/18 [==============================] - 0s 4ms/step - loss: 0.0018 - accuracy: 1.0000 - val_loss: 0.4181 - val_accuracy: 0.8889\n",
            "Epoch 145/150\n",
            "18/18 [==============================] - 0s 4ms/step - loss: 0.0018 - accuracy: 1.0000 - val_loss: 0.4156 - val_accuracy: 0.8889\n",
            "Epoch 146/150\n",
            "18/18 [==============================] - 0s 5ms/step - loss: 0.0017 - accuracy: 1.0000 - val_loss: 0.4011 - val_accuracy: 0.8889\n",
            "Epoch 147/150\n",
            "18/18 [==============================] - 0s 4ms/step - loss: 0.0019 - accuracy: 1.0000 - val_loss: 0.4024 - val_accuracy: 0.8889\n",
            "Epoch 148/150\n",
            "18/18 [==============================] - 0s 4ms/step - loss: 0.0020 - accuracy: 1.0000 - val_loss: 0.4179 - val_accuracy: 0.8889\n",
            "Epoch 149/150\n",
            "18/18 [==============================] - 0s 5ms/step - loss: 0.0017 - accuracy: 1.0000 - val_loss: 0.4066 - val_accuracy: 0.8889\n",
            "Epoch 150/150\n",
            "18/18 [==============================] - 0s 4ms/step - loss: 0.0018 - accuracy: 1.0000 - val_loss: 0.3935 - val_accuracy: 0.8889\n"
          ]
        },
        {
          "output_type": "execute_result",
          "data": {
            "text/plain": [
              "<keras.callbacks.History at 0x7f0700439ed0>"
            ]
          },
          "metadata": {},
          "execution_count": 25
        }
      ]
    },
    {
      "cell_type": "code",
      "source": [
        "from sklearn.metrics import f1_score, precision_score, recall_score, accuracy_score\n",
        "\n",
        "y_pred = model.predict(X_test)\n",
        "y_pred = np.round(y_pred).astype(int)\n",
        "y_true = y_test\n",
        "print(f'Test Set Accuracy score =  {100*accuracy_score(y_true, y_pred):.3f}%') #same as model.score(X_test, y_test)\n",
        "print(f'Test Set Precision score =  {100*precision_score(y_true, y_pred, average=\"macro\"):.3f}%')\n",
        "print(f'Test Set Recall score =  {100*recall_score(y_true, y_pred, average=\"macro\"):.3f}%')\n",
        "print(f'Test Set F-score score =  {100*f1_score(y_true, y_pred, average=\"macro\"):.3}%')"
      ],
      "metadata": {
        "colab": {
          "base_uri": "https://localhost:8080/"
        },
        "id": "zlLcQoqdcxqg",
        "outputId": "6ea3fbad-fff0-4bf6-b396-505c86fffc15"
      },
      "execution_count": 26,
      "outputs": [
        {
          "output_type": "stream",
          "name": "stderr",
          "text": [
            "WARNING:tensorflow:Model was constructed with shape (None, None, 180) for input KerasTensor(type_spec=TensorSpec(shape=(None, None, 180), dtype=tf.float32, name='dense_input'), name='dense_input', description=\"created by layer 'dense_input'\"), but it was called on an input with incompatible shape (None, 180).\n"
          ]
        },
        {
          "output_type": "stream",
          "name": "stdout",
          "text": [
            "Test Set Accuracy score =  77.778%\n",
            "Test Set Precision score =  75.000%\n",
            "Test Set Recall score =  85.714%\n",
            "Test Set F-score score =  75.0%\n"
          ]
        }
      ]
    },
    {
      "cell_type": "markdown",
      "source": [
        "**Simple U Network**"
      ],
      "metadata": {
        "id": "LFyThJIBeLxd"
      }
    },
    {
      "cell_type": "code",
      "source": [
        "# baseline model\n",
        "def create_3_layer():\n",
        "    # create model\n",
        "    model = Sequential()\n",
        "    model.add(Dense(64, input_shape=((180,)), activation='relu')) # one hidden layer\n",
        "    model.add(Dense(128, activation='relu')) # one hidden layer\n",
        "    model.add(Dense(256, activation='relu')) # one hidden layer\n",
        "    model.add(Dense(128, activation='relu')) # one hidden layer\n",
        "    model.add(Dense(64, activation='relu')) # one hidden layer\n",
        "    model.add(Dense(1, activation='sigmoid'))\n",
        "    # Compile model\n",
        "    model.compile(loss='binary_crossentropy', optimizer='adam', metrics=['accuracy'])\n",
        "    return model"
      ],
      "metadata": {
        "id": "fJLHmBJMc5nf"
      },
      "execution_count": 27,
      "outputs": []
    },
    {
      "cell_type": "code",
      "source": [
        "model = create_3_layer()\n",
        "model.summary()"
      ],
      "metadata": {
        "colab": {
          "base_uri": "https://localhost:8080/"
        },
        "id": "bXJQ5wvodjcc",
        "outputId": "d28d3b1e-9966-4648-f3b1-c02890cb58dc"
      },
      "execution_count": 28,
      "outputs": [
        {
          "output_type": "stream",
          "name": "stdout",
          "text": [
            "Model: \"sequential_1\"\n",
            "_________________________________________________________________\n",
            " Layer (type)                Output Shape              Param #   \n",
            "=================================================================\n",
            " dense_2 (Dense)             (None, 64)                11584     \n",
            "                                                                 \n",
            " dense_3 (Dense)             (None, 128)               8320      \n",
            "                                                                 \n",
            " dense_4 (Dense)             (None, 256)               33024     \n",
            "                                                                 \n",
            " dense_5 (Dense)             (None, 128)               32896     \n",
            "                                                                 \n",
            " dense_6 (Dense)             (None, 64)                8256      \n",
            "                                                                 \n",
            " dense_7 (Dense)             (None, 1)                 65        \n",
            "                                                                 \n",
            "=================================================================\n",
            "Total params: 94,145\n",
            "Trainable params: 94,145\n",
            "Non-trainable params: 0\n",
            "_________________________________________________________________\n"
          ]
        }
      ]
    },
    {
      "cell_type": "code",
      "source": [
        "model.fit(X_train, y_train, batch_size=4, epochs=200, verbose=1, validation_data=(X_val, y_val), shuffle = True)"
      ],
      "metadata": {
        "colab": {
          "base_uri": "https://localhost:8080/"
        },
        "id": "z7oUdXGedkt4",
        "outputId": "f8f65a4d-94c5-456b-c738-876c4f08c2a7"
      },
      "execution_count": 29,
      "outputs": [
        {
          "output_type": "stream",
          "name": "stdout",
          "text": [
            "Epoch 1/200\n",
            "18/18 [==============================] - 1s 12ms/step - loss: 1.6238 - accuracy: 0.5143 - val_loss: 1.7761 - val_accuracy: 0.4444\n",
            "Epoch 2/200\n",
            "18/18 [==============================] - 0s 4ms/step - loss: 0.9758 - accuracy: 0.7143 - val_loss: 0.4940 - val_accuracy: 0.7778\n",
            "Epoch 3/200\n",
            "18/18 [==============================] - 0s 6ms/step - loss: 0.4713 - accuracy: 0.7857 - val_loss: 0.8293 - val_accuracy: 0.6667\n",
            "Epoch 4/200\n",
            "18/18 [==============================] - 0s 5ms/step - loss: 0.5182 - accuracy: 0.8429 - val_loss: 1.4406 - val_accuracy: 0.4444\n",
            "Epoch 5/200\n",
            "18/18 [==============================] - 0s 4ms/step - loss: 0.2675 - accuracy: 0.8286 - val_loss: 0.5501 - val_accuracy: 0.6667\n",
            "Epoch 6/200\n",
            "18/18 [==============================] - 0s 4ms/step - loss: 0.2475 - accuracy: 0.9143 - val_loss: 1.0537 - val_accuracy: 0.6667\n",
            "Epoch 7/200\n",
            "18/18 [==============================] - 0s 6ms/step - loss: 0.1626 - accuracy: 0.9143 - val_loss: 0.8253 - val_accuracy: 0.5556\n",
            "Epoch 8/200\n",
            "18/18 [==============================] - 0s 6ms/step - loss: 0.2655 - accuracy: 0.8714 - val_loss: 0.2461 - val_accuracy: 1.0000\n",
            "Epoch 9/200\n",
            "18/18 [==============================] - 0s 4ms/step - loss: 0.1505 - accuracy: 0.9571 - val_loss: 0.8321 - val_accuracy: 0.5556\n",
            "Epoch 10/200\n",
            "18/18 [==============================] - 0s 5ms/step - loss: 0.2345 - accuracy: 0.8857 - val_loss: 0.3259 - val_accuracy: 0.8889\n",
            "Epoch 11/200\n",
            "18/18 [==============================] - 0s 5ms/step - loss: 0.1342 - accuracy: 0.9571 - val_loss: 0.4975 - val_accuracy: 0.7778\n",
            "Epoch 12/200\n",
            "18/18 [==============================] - 0s 4ms/step - loss: 0.1154 - accuracy: 0.9571 - val_loss: 0.4277 - val_accuracy: 0.7778\n",
            "Epoch 13/200\n",
            "18/18 [==============================] - 0s 4ms/step - loss: 0.1177 - accuracy: 0.9286 - val_loss: 1.1581 - val_accuracy: 0.5556\n",
            "Epoch 14/200\n",
            "18/18 [==============================] - 0s 5ms/step - loss: 0.1497 - accuracy: 0.9429 - val_loss: 0.3755 - val_accuracy: 0.7778\n",
            "Epoch 15/200\n",
            "18/18 [==============================] - 0s 4ms/step - loss: 0.1739 - accuracy: 0.9143 - val_loss: 0.2809 - val_accuracy: 0.8889\n",
            "Epoch 16/200\n",
            "18/18 [==============================] - 0s 5ms/step - loss: 0.1431 - accuracy: 0.9429 - val_loss: 0.5316 - val_accuracy: 0.7778\n",
            "Epoch 17/200\n",
            "18/18 [==============================] - 0s 4ms/step - loss: 0.1042 - accuracy: 0.9857 - val_loss: 0.2576 - val_accuracy: 0.8889\n",
            "Epoch 18/200\n",
            "18/18 [==============================] - 0s 5ms/step - loss: 0.1263 - accuracy: 0.9429 - val_loss: 0.2028 - val_accuracy: 0.8889\n",
            "Epoch 19/200\n",
            "18/18 [==============================] - 0s 4ms/step - loss: 0.2742 - accuracy: 0.9000 - val_loss: 0.4721 - val_accuracy: 0.7778\n",
            "Epoch 20/200\n",
            "18/18 [==============================] - 0s 5ms/step - loss: 0.2988 - accuracy: 0.9000 - val_loss: 0.5119 - val_accuracy: 0.6667\n",
            "Epoch 21/200\n",
            "18/18 [==============================] - 0s 5ms/step - loss: 0.1694 - accuracy: 0.9429 - val_loss: 0.4098 - val_accuracy: 0.7778\n",
            "Epoch 22/200\n",
            "18/18 [==============================] - 0s 4ms/step - loss: 0.0992 - accuracy: 0.9714 - val_loss: 0.2082 - val_accuracy: 0.8889\n",
            "Epoch 23/200\n",
            "18/18 [==============================] - 0s 4ms/step - loss: 0.1062 - accuracy: 0.9429 - val_loss: 0.4994 - val_accuracy: 0.7778\n",
            "Epoch 24/200\n",
            "18/18 [==============================] - 0s 4ms/step - loss: 0.0662 - accuracy: 0.9714 - val_loss: 0.4747 - val_accuracy: 0.6667\n",
            "Epoch 25/200\n",
            "18/18 [==============================] - 0s 4ms/step - loss: 0.1009 - accuracy: 0.9571 - val_loss: 0.3268 - val_accuracy: 0.8889\n",
            "Epoch 26/200\n",
            "18/18 [==============================] - 0s 4ms/step - loss: 0.0531 - accuracy: 0.9714 - val_loss: 0.3601 - val_accuracy: 0.7778\n",
            "Epoch 27/200\n",
            "18/18 [==============================] - 0s 4ms/step - loss: 0.0381 - accuracy: 0.9714 - val_loss: 0.2791 - val_accuracy: 0.7778\n",
            "Epoch 28/200\n",
            "18/18 [==============================] - 0s 5ms/step - loss: 0.0629 - accuracy: 0.9857 - val_loss: 0.2262 - val_accuracy: 0.8889\n",
            "Epoch 29/200\n",
            "18/18 [==============================] - 0s 4ms/step - loss: 0.0912 - accuracy: 0.9571 - val_loss: 0.2116 - val_accuracy: 0.8889\n",
            "Epoch 30/200\n",
            "18/18 [==============================] - 0s 5ms/step - loss: 0.0732 - accuracy: 0.9714 - val_loss: 0.2411 - val_accuracy: 0.8889\n",
            "Epoch 31/200\n",
            "18/18 [==============================] - 0s 4ms/step - loss: 0.0458 - accuracy: 0.9857 - val_loss: 0.1959 - val_accuracy: 0.8889\n",
            "Epoch 32/200\n",
            "18/18 [==============================] - 0s 5ms/step - loss: 0.0405 - accuracy: 0.9714 - val_loss: 0.1269 - val_accuracy: 1.0000\n",
            "Epoch 33/200\n",
            "18/18 [==============================] - 0s 5ms/step - loss: 0.0256 - accuracy: 0.9857 - val_loss: 0.2295 - val_accuracy: 0.8889\n",
            "Epoch 34/200\n",
            "18/18 [==============================] - 0s 4ms/step - loss: 0.0386 - accuracy: 0.9857 - val_loss: 0.1663 - val_accuracy: 0.8889\n",
            "Epoch 35/200\n",
            "18/18 [==============================] - 0s 5ms/step - loss: 0.0627 - accuracy: 0.9857 - val_loss: 0.2613 - val_accuracy: 0.8889\n",
            "Epoch 36/200\n",
            "18/18 [==============================] - 0s 5ms/step - loss: 0.0571 - accuracy: 0.9857 - val_loss: 0.5332 - val_accuracy: 0.7778\n",
            "Epoch 37/200\n",
            "18/18 [==============================] - 0s 4ms/step - loss: 0.0245 - accuracy: 0.9857 - val_loss: 0.2228 - val_accuracy: 0.8889\n",
            "Epoch 38/200\n",
            "18/18 [==============================] - 0s 6ms/step - loss: 0.0195 - accuracy: 1.0000 - val_loss: 0.1670 - val_accuracy: 0.8889\n",
            "Epoch 39/200\n",
            "18/18 [==============================] - 0s 4ms/step - loss: 0.0152 - accuracy: 1.0000 - val_loss: 0.2868 - val_accuracy: 0.8889\n",
            "Epoch 40/200\n",
            "18/18 [==============================] - 0s 4ms/step - loss: 0.0266 - accuracy: 0.9857 - val_loss: 0.0939 - val_accuracy: 1.0000\n",
            "Epoch 41/200\n",
            "18/18 [==============================] - 0s 5ms/step - loss: 0.0644 - accuracy: 0.9714 - val_loss: 0.4865 - val_accuracy: 0.7778\n",
            "Epoch 42/200\n",
            "18/18 [==============================] - 0s 4ms/step - loss: 0.0115 - accuracy: 1.0000 - val_loss: 0.1715 - val_accuracy: 0.8889\n",
            "Epoch 43/200\n",
            "18/18 [==============================] - 0s 5ms/step - loss: 0.0225 - accuracy: 0.9857 - val_loss: 0.6978 - val_accuracy: 0.6667\n",
            "Epoch 44/200\n",
            "18/18 [==============================] - 0s 5ms/step - loss: 0.0267 - accuracy: 0.9857 - val_loss: 0.1383 - val_accuracy: 1.0000\n",
            "Epoch 45/200\n",
            "18/18 [==============================] - 0s 4ms/step - loss: 0.0309 - accuracy: 0.9714 - val_loss: 0.3770 - val_accuracy: 0.8889\n",
            "Epoch 46/200\n",
            "18/18 [==============================] - 0s 5ms/step - loss: 0.0070 - accuracy: 1.0000 - val_loss: 0.1913 - val_accuracy: 0.8889\n",
            "Epoch 47/200\n",
            "18/18 [==============================] - 0s 5ms/step - loss: 0.0088 - accuracy: 1.0000 - val_loss: 0.3091 - val_accuracy: 0.8889\n",
            "Epoch 48/200\n",
            "18/18 [==============================] - 0s 5ms/step - loss: 0.0192 - accuracy: 0.9857 - val_loss: 0.2072 - val_accuracy: 0.8889\n",
            "Epoch 49/200\n",
            "18/18 [==============================] - 0s 5ms/step - loss: 0.0465 - accuracy: 0.9857 - val_loss: 0.2563 - val_accuracy: 0.8889\n",
            "Epoch 50/200\n",
            "18/18 [==============================] - 0s 5ms/step - loss: 0.0188 - accuracy: 0.9857 - val_loss: 0.5506 - val_accuracy: 0.6667\n",
            "Epoch 51/200\n",
            "18/18 [==============================] - 0s 4ms/step - loss: 0.0218 - accuracy: 0.9857 - val_loss: 0.2589 - val_accuracy: 0.8889\n",
            "Epoch 52/200\n",
            "18/18 [==============================] - 0s 5ms/step - loss: 0.0078 - accuracy: 1.0000 - val_loss: 0.3275 - val_accuracy: 0.8889\n",
            "Epoch 53/200\n",
            "18/18 [==============================] - 0s 5ms/step - loss: 0.0091 - accuracy: 1.0000 - val_loss: 0.3929 - val_accuracy: 0.8889\n",
            "Epoch 54/200\n",
            "18/18 [==============================] - 0s 5ms/step - loss: 0.0095 - accuracy: 1.0000 - val_loss: 0.3132 - val_accuracy: 0.8889\n",
            "Epoch 55/200\n",
            "18/18 [==============================] - 0s 4ms/step - loss: 0.0053 - accuracy: 1.0000 - val_loss: 0.2609 - val_accuracy: 0.8889\n",
            "Epoch 56/200\n",
            "18/18 [==============================] - 0s 5ms/step - loss: 0.0025 - accuracy: 1.0000 - val_loss: 0.4579 - val_accuracy: 0.8889\n",
            "Epoch 57/200\n",
            "18/18 [==============================] - 0s 5ms/step - loss: 0.0037 - accuracy: 1.0000 - val_loss: 0.3460 - val_accuracy: 0.8889\n",
            "Epoch 58/200\n",
            "18/18 [==============================] - 0s 4ms/step - loss: 0.0020 - accuracy: 1.0000 - val_loss: 0.4076 - val_accuracy: 0.8889\n",
            "Epoch 59/200\n",
            "18/18 [==============================] - 0s 5ms/step - loss: 7.1692e-04 - accuracy: 1.0000 - val_loss: 0.3978 - val_accuracy: 0.8889\n",
            "Epoch 60/200\n",
            "18/18 [==============================] - 0s 5ms/step - loss: 6.8047e-04 - accuracy: 1.0000 - val_loss: 0.3892 - val_accuracy: 0.8889\n",
            "Epoch 61/200\n",
            "18/18 [==============================] - 0s 4ms/step - loss: 3.2253e-04 - accuracy: 1.0000 - val_loss: 0.4943 - val_accuracy: 0.8889\n",
            "Epoch 62/200\n",
            "18/18 [==============================] - 0s 5ms/step - loss: 4.6578e-04 - accuracy: 1.0000 - val_loss: 0.5143 - val_accuracy: 0.8889\n",
            "Epoch 63/200\n",
            "18/18 [==============================] - 0s 6ms/step - loss: 2.1467e-04 - accuracy: 1.0000 - val_loss: 0.4774 - val_accuracy: 0.8889\n",
            "Epoch 64/200\n",
            "18/18 [==============================] - 0s 5ms/step - loss: 2.0787e-04 - accuracy: 1.0000 - val_loss: 0.4985 - val_accuracy: 0.8889\n",
            "Epoch 65/200\n",
            "18/18 [==============================] - 0s 5ms/step - loss: 1.5394e-04 - accuracy: 1.0000 - val_loss: 0.5142 - val_accuracy: 0.8889\n",
            "Epoch 66/200\n",
            "18/18 [==============================] - 0s 5ms/step - loss: 1.3528e-04 - accuracy: 1.0000 - val_loss: 0.5422 - val_accuracy: 0.8889\n",
            "Epoch 67/200\n",
            "18/18 [==============================] - 0s 5ms/step - loss: 1.0741e-04 - accuracy: 1.0000 - val_loss: 0.5473 - val_accuracy: 0.8889\n",
            "Epoch 68/200\n",
            "18/18 [==============================] - 0s 4ms/step - loss: 1.0252e-04 - accuracy: 1.0000 - val_loss: 0.5588 - val_accuracy: 0.8889\n",
            "Epoch 69/200\n",
            "18/18 [==============================] - 0s 5ms/step - loss: 8.6347e-05 - accuracy: 1.0000 - val_loss: 0.5428 - val_accuracy: 0.8889\n",
            "Epoch 70/200\n",
            "18/18 [==============================] - 0s 5ms/step - loss: 8.0101e-05 - accuracy: 1.0000 - val_loss: 0.5539 - val_accuracy: 0.8889\n",
            "Epoch 71/200\n",
            "18/18 [==============================] - 0s 4ms/step - loss: 7.5691e-05 - accuracy: 1.0000 - val_loss: 0.5683 - val_accuracy: 0.8889\n",
            "Epoch 72/200\n",
            "18/18 [==============================] - 0s 5ms/step - loss: 6.7121e-05 - accuracy: 1.0000 - val_loss: 0.5633 - val_accuracy: 0.8889\n",
            "Epoch 73/200\n",
            "18/18 [==============================] - 0s 4ms/step - loss: 5.6514e-05 - accuracy: 1.0000 - val_loss: 0.5422 - val_accuracy: 0.8889\n",
            "Epoch 74/200\n",
            "18/18 [==============================] - 0s 5ms/step - loss: 6.0911e-05 - accuracy: 1.0000 - val_loss: 0.5537 - val_accuracy: 0.8889\n",
            "Epoch 75/200\n",
            "18/18 [==============================] - 0s 5ms/step - loss: 5.0130e-05 - accuracy: 1.0000 - val_loss: 0.5737 - val_accuracy: 0.8889\n",
            "Epoch 76/200\n",
            "18/18 [==============================] - 0s 5ms/step - loss: 5.1319e-05 - accuracy: 1.0000 - val_loss: 0.5856 - val_accuracy: 0.8889\n",
            "Epoch 77/200\n",
            "18/18 [==============================] - 0s 4ms/step - loss: 4.5019e-05 - accuracy: 1.0000 - val_loss: 0.5934 - val_accuracy: 0.8889\n",
            "Epoch 78/200\n",
            "18/18 [==============================] - 0s 6ms/step - loss: 3.8402e-05 - accuracy: 1.0000 - val_loss: 0.5933 - val_accuracy: 0.8889\n",
            "Epoch 79/200\n",
            "18/18 [==============================] - 0s 5ms/step - loss: 3.6166e-05 - accuracy: 1.0000 - val_loss: 0.6318 - val_accuracy: 0.8889\n",
            "Epoch 80/200\n",
            "18/18 [==============================] - 0s 5ms/step - loss: 2.9407e-05 - accuracy: 1.0000 - val_loss: 0.6392 - val_accuracy: 0.8889\n",
            "Epoch 81/200\n",
            "18/18 [==============================] - 0s 4ms/step - loss: 2.6649e-05 - accuracy: 1.0000 - val_loss: 0.6257 - val_accuracy: 0.8889\n",
            "Epoch 82/200\n",
            "18/18 [==============================] - 0s 5ms/step - loss: 2.4016e-05 - accuracy: 1.0000 - val_loss: 0.6513 - val_accuracy: 0.8889\n",
            "Epoch 83/200\n",
            "18/18 [==============================] - 0s 5ms/step - loss: 2.1402e-05 - accuracy: 1.0000 - val_loss: 0.6550 - val_accuracy: 0.8889\n",
            "Epoch 84/200\n",
            "18/18 [==============================] - 0s 4ms/step - loss: 2.0661e-05 - accuracy: 1.0000 - val_loss: 0.6660 - val_accuracy: 0.8889\n",
            "Epoch 85/200\n",
            "18/18 [==============================] - 0s 5ms/step - loss: 1.9623e-05 - accuracy: 1.0000 - val_loss: 0.6869 - val_accuracy: 0.8889\n",
            "Epoch 86/200\n",
            "18/18 [==============================] - 0s 5ms/step - loss: 1.7023e-05 - accuracy: 1.0000 - val_loss: 0.6637 - val_accuracy: 0.8889\n",
            "Epoch 87/200\n",
            "18/18 [==============================] - 0s 5ms/step - loss: 1.6185e-05 - accuracy: 1.0000 - val_loss: 0.6723 - val_accuracy: 0.8889\n",
            "Epoch 88/200\n",
            "18/18 [==============================] - 0s 5ms/step - loss: 1.4489e-05 - accuracy: 1.0000 - val_loss: 0.6874 - val_accuracy: 0.8889\n",
            "Epoch 89/200\n",
            "18/18 [==============================] - 0s 6ms/step - loss: 1.3783e-05 - accuracy: 1.0000 - val_loss: 0.6956 - val_accuracy: 0.8889\n",
            "Epoch 90/200\n",
            "18/18 [==============================] - 0s 5ms/step - loss: 1.3288e-05 - accuracy: 1.0000 - val_loss: 0.7099 - val_accuracy: 0.8889\n",
            "Epoch 91/200\n",
            "18/18 [==============================] - 0s 4ms/step - loss: 1.2022e-05 - accuracy: 1.0000 - val_loss: 0.6978 - val_accuracy: 0.8889\n",
            "Epoch 92/200\n",
            "18/18 [==============================] - 0s 5ms/step - loss: 1.1217e-05 - accuracy: 1.0000 - val_loss: 0.7010 - val_accuracy: 0.8889\n",
            "Epoch 93/200\n",
            "18/18 [==============================] - 0s 4ms/step - loss: 1.0715e-05 - accuracy: 1.0000 - val_loss: 0.7157 - val_accuracy: 0.8889\n",
            "Epoch 94/200\n",
            "18/18 [==============================] - 0s 5ms/step - loss: 1.0143e-05 - accuracy: 1.0000 - val_loss: 0.7207 - val_accuracy: 0.8889\n",
            "Epoch 95/200\n",
            "18/18 [==============================] - 0s 5ms/step - loss: 9.8594e-06 - accuracy: 1.0000 - val_loss: 0.7288 - val_accuracy: 0.8889\n",
            "Epoch 96/200\n",
            "18/18 [==============================] - 0s 5ms/step - loss: 9.0296e-06 - accuracy: 1.0000 - val_loss: 0.7245 - val_accuracy: 0.8889\n",
            "Epoch 97/200\n",
            "18/18 [==============================] - 0s 5ms/step - loss: 9.0084e-06 - accuracy: 1.0000 - val_loss: 0.7169 - val_accuracy: 0.8889\n",
            "Epoch 98/200\n",
            "18/18 [==============================] - 0s 5ms/step - loss: 8.1898e-06 - accuracy: 1.0000 - val_loss: 0.7349 - val_accuracy: 0.8889\n",
            "Epoch 99/200\n",
            "18/18 [==============================] - 0s 4ms/step - loss: 8.3331e-06 - accuracy: 1.0000 - val_loss: 0.7457 - val_accuracy: 0.8889\n",
            "Epoch 100/200\n",
            "18/18 [==============================] - 0s 4ms/step - loss: 7.4124e-06 - accuracy: 1.0000 - val_loss: 0.7421 - val_accuracy: 0.8889\n",
            "Epoch 101/200\n",
            "18/18 [==============================] - 0s 4ms/step - loss: 7.5116e-06 - accuracy: 1.0000 - val_loss: 0.7384 - val_accuracy: 0.8889\n",
            "Epoch 102/200\n",
            "18/18 [==============================] - 0s 6ms/step - loss: 7.0226e-06 - accuracy: 1.0000 - val_loss: 0.7497 - val_accuracy: 0.8889\n",
            "Epoch 103/200\n",
            "18/18 [==============================] - 0s 4ms/step - loss: 6.5208e-06 - accuracy: 1.0000 - val_loss: 0.7503 - val_accuracy: 0.8889\n",
            "Epoch 104/200\n",
            "18/18 [==============================] - 0s 5ms/step - loss: 6.5783e-06 - accuracy: 1.0000 - val_loss: 0.7659 - val_accuracy: 0.8889\n",
            "Epoch 105/200\n",
            "18/18 [==============================] - 0s 5ms/step - loss: 5.8030e-06 - accuracy: 1.0000 - val_loss: 0.7484 - val_accuracy: 0.8889\n",
            "Epoch 106/200\n",
            "18/18 [==============================] - 0s 5ms/step - loss: 5.7026e-06 - accuracy: 1.0000 - val_loss: 0.7500 - val_accuracy: 0.8889\n",
            "Epoch 107/200\n",
            "18/18 [==============================] - 0s 5ms/step - loss: 5.3484e-06 - accuracy: 1.0000 - val_loss: 0.7610 - val_accuracy: 0.8889\n",
            "Epoch 108/200\n",
            "18/18 [==============================] - 0s 5ms/step - loss: 5.1664e-06 - accuracy: 1.0000 - val_loss: 0.7693 - val_accuracy: 0.8889\n",
            "Epoch 109/200\n",
            "18/18 [==============================] - 0s 5ms/step - loss: 4.9886e-06 - accuracy: 1.0000 - val_loss: 0.7658 - val_accuracy: 0.8889\n",
            "Epoch 110/200\n",
            "18/18 [==============================] - 0s 5ms/step - loss: 4.7761e-06 - accuracy: 1.0000 - val_loss: 0.7761 - val_accuracy: 0.8889\n",
            "Epoch 111/200\n",
            "18/18 [==============================] - 0s 6ms/step - loss: 4.5091e-06 - accuracy: 1.0000 - val_loss: 0.7780 - val_accuracy: 0.8889\n",
            "Epoch 112/200\n",
            "18/18 [==============================] - 0s 5ms/step - loss: 4.3691e-06 - accuracy: 1.0000 - val_loss: 0.7781 - val_accuracy: 0.8889\n",
            "Epoch 113/200\n",
            "18/18 [==============================] - 0s 5ms/step - loss: 4.1895e-06 - accuracy: 1.0000 - val_loss: 0.7852 - val_accuracy: 0.8889\n",
            "Epoch 114/200\n",
            "18/18 [==============================] - 0s 5ms/step - loss: 3.9911e-06 - accuracy: 1.0000 - val_loss: 0.7860 - val_accuracy: 0.8889\n",
            "Epoch 115/200\n",
            "18/18 [==============================] - 0s 5ms/step - loss: 3.8540e-06 - accuracy: 1.0000 - val_loss: 0.8054 - val_accuracy: 0.8889\n",
            "Epoch 116/200\n",
            "18/18 [==============================] - 0s 5ms/step - loss: 3.7516e-06 - accuracy: 1.0000 - val_loss: 0.8049 - val_accuracy: 0.8889\n",
            "Epoch 117/200\n",
            "18/18 [==============================] - 0s 6ms/step - loss: 3.6654e-06 - accuracy: 1.0000 - val_loss: 0.7997 - val_accuracy: 0.8889\n",
            "Epoch 118/200\n",
            "18/18 [==============================] - 0s 5ms/step - loss: 3.4329e-06 - accuracy: 1.0000 - val_loss: 0.8062 - val_accuracy: 0.8889\n",
            "Epoch 119/200\n",
            "18/18 [==============================] - 0s 6ms/step - loss: 3.2780e-06 - accuracy: 1.0000 - val_loss: 0.8058 - val_accuracy: 0.8889\n",
            "Epoch 120/200\n",
            "18/18 [==============================] - 0s 5ms/step - loss: 3.1743e-06 - accuracy: 1.0000 - val_loss: 0.8097 - val_accuracy: 0.8889\n",
            "Epoch 121/200\n",
            "18/18 [==============================] - 0s 5ms/step - loss: 3.0731e-06 - accuracy: 1.0000 - val_loss: 0.8113 - val_accuracy: 0.8889\n",
            "Epoch 122/200\n",
            "18/18 [==============================] - 0s 4ms/step - loss: 3.0196e-06 - accuracy: 1.0000 - val_loss: 0.8101 - val_accuracy: 0.8889\n",
            "Epoch 123/200\n",
            "18/18 [==============================] - 0s 5ms/step - loss: 2.8609e-06 - accuracy: 1.0000 - val_loss: 0.8169 - val_accuracy: 0.8889\n",
            "Epoch 124/200\n",
            "18/18 [==============================] - 0s 5ms/step - loss: 2.7935e-06 - accuracy: 1.0000 - val_loss: 0.8195 - val_accuracy: 0.8889\n",
            "Epoch 125/200\n",
            "18/18 [==============================] - 0s 4ms/step - loss: 2.7391e-06 - accuracy: 1.0000 - val_loss: 0.8259 - val_accuracy: 0.8889\n",
            "Epoch 126/200\n",
            "18/18 [==============================] - 0s 5ms/step - loss: 2.5985e-06 - accuracy: 1.0000 - val_loss: 0.8231 - val_accuracy: 0.8889\n",
            "Epoch 127/200\n",
            "18/18 [==============================] - 0s 4ms/step - loss: 2.5517e-06 - accuracy: 1.0000 - val_loss: 0.8282 - val_accuracy: 0.8889\n",
            "Epoch 128/200\n",
            "18/18 [==============================] - 0s 5ms/step - loss: 2.5245e-06 - accuracy: 1.0000 - val_loss: 0.8223 - val_accuracy: 0.8889\n",
            "Epoch 129/200\n",
            "18/18 [==============================] - 0s 5ms/step - loss: 2.3163e-06 - accuracy: 1.0000 - val_loss: 0.8378 - val_accuracy: 0.8889\n",
            "Epoch 130/200\n",
            "18/18 [==============================] - 0s 5ms/step - loss: 2.3465e-06 - accuracy: 1.0000 - val_loss: 0.8422 - val_accuracy: 0.8889\n",
            "Epoch 131/200\n",
            "18/18 [==============================] - 0s 4ms/step - loss: 2.2882e-06 - accuracy: 1.0000 - val_loss: 0.8347 - val_accuracy: 0.8889\n",
            "Epoch 132/200\n",
            "18/18 [==============================] - 0s 5ms/step - loss: 2.1908e-06 - accuracy: 1.0000 - val_loss: 0.8435 - val_accuracy: 0.8889\n",
            "Epoch 133/200\n",
            "18/18 [==============================] - 0s 4ms/step - loss: 2.1110e-06 - accuracy: 1.0000 - val_loss: 0.8431 - val_accuracy: 0.8889\n",
            "Epoch 134/200\n",
            "18/18 [==============================] - 0s 4ms/step - loss: 2.0551e-06 - accuracy: 1.0000 - val_loss: 0.8419 - val_accuracy: 0.8889\n",
            "Epoch 135/200\n",
            "18/18 [==============================] - 0s 4ms/step - loss: 1.9967e-06 - accuracy: 1.0000 - val_loss: 0.8441 - val_accuracy: 0.8889\n",
            "Epoch 136/200\n",
            "18/18 [==============================] - 0s 5ms/step - loss: 1.9845e-06 - accuracy: 1.0000 - val_loss: 0.8537 - val_accuracy: 0.8889\n",
            "Epoch 137/200\n",
            "18/18 [==============================] - 0s 4ms/step - loss: 1.8943e-06 - accuracy: 1.0000 - val_loss: 0.8517 - val_accuracy: 0.8889\n",
            "Epoch 138/200\n",
            "18/18 [==============================] - 0s 6ms/step - loss: 1.8495e-06 - accuracy: 1.0000 - val_loss: 0.8512 - val_accuracy: 0.8889\n",
            "Epoch 139/200\n",
            "18/18 [==============================] - 0s 5ms/step - loss: 1.8018e-06 - accuracy: 1.0000 - val_loss: 0.8507 - val_accuracy: 0.8889\n",
            "Epoch 140/200\n",
            "18/18 [==============================] - 0s 5ms/step - loss: 1.7773e-06 - accuracy: 1.0000 - val_loss: 0.8502 - val_accuracy: 0.8889\n",
            "Epoch 141/200\n",
            "18/18 [==============================] - 0s 5ms/step - loss: 1.7113e-06 - accuracy: 1.0000 - val_loss: 0.8545 - val_accuracy: 0.8889\n",
            "Epoch 142/200\n",
            "18/18 [==============================] - 0s 6ms/step - loss: 1.6867e-06 - accuracy: 1.0000 - val_loss: 0.8586 - val_accuracy: 0.8889\n",
            "Epoch 143/200\n",
            "18/18 [==============================] - 0s 5ms/step - loss: 1.6308e-06 - accuracy: 1.0000 - val_loss: 0.8568 - val_accuracy: 0.8889\n",
            "Epoch 144/200\n",
            "18/18 [==============================] - 0s 5ms/step - loss: 1.5973e-06 - accuracy: 1.0000 - val_loss: 0.8625 - val_accuracy: 0.8889\n",
            "Epoch 145/200\n",
            "18/18 [==============================] - 0s 4ms/step - loss: 1.5922e-06 - accuracy: 1.0000 - val_loss: 0.8593 - val_accuracy: 0.8889\n",
            "Epoch 146/200\n",
            "18/18 [==============================] - 0s 5ms/step - loss: 1.5243e-06 - accuracy: 1.0000 - val_loss: 0.8642 - val_accuracy: 0.8889\n",
            "Epoch 147/200\n",
            "18/18 [==============================] - 0s 5ms/step - loss: 1.5402e-06 - accuracy: 1.0000 - val_loss: 0.8723 - val_accuracy: 0.8889\n",
            "Epoch 148/200\n",
            "18/18 [==============================] - 0s 5ms/step - loss: 1.4704e-06 - accuracy: 1.0000 - val_loss: 0.8720 - val_accuracy: 0.8889\n",
            "Epoch 149/200\n",
            "18/18 [==============================] - 0s 6ms/step - loss: 1.4706e-06 - accuracy: 1.0000 - val_loss: 0.8647 - val_accuracy: 0.8889\n",
            "Epoch 150/200\n",
            "18/18 [==============================] - 0s 5ms/step - loss: 1.4503e-06 - accuracy: 1.0000 - val_loss: 0.8755 - val_accuracy: 0.8889\n",
            "Epoch 151/200\n",
            "18/18 [==============================] - 0s 5ms/step - loss: 1.3793e-06 - accuracy: 1.0000 - val_loss: 0.8746 - val_accuracy: 0.8889\n",
            "Epoch 152/200\n",
            "18/18 [==============================] - 0s 5ms/step - loss: 1.3661e-06 - accuracy: 1.0000 - val_loss: 0.8740 - val_accuracy: 0.8889\n",
            "Epoch 153/200\n",
            "18/18 [==============================] - 0s 4ms/step - loss: 1.3182e-06 - accuracy: 1.0000 - val_loss: 0.8789 - val_accuracy: 0.8889\n",
            "Epoch 154/200\n",
            "18/18 [==============================] - 0s 5ms/step - loss: 1.2906e-06 - accuracy: 1.0000 - val_loss: 0.8808 - val_accuracy: 0.8889\n",
            "Epoch 155/200\n",
            "18/18 [==============================] - 0s 5ms/step - loss: 1.2847e-06 - accuracy: 1.0000 - val_loss: 0.8843 - val_accuracy: 0.8889\n",
            "Epoch 156/200\n",
            "18/18 [==============================] - 0s 5ms/step - loss: 1.2692e-06 - accuracy: 1.0000 - val_loss: 0.8798 - val_accuracy: 0.8889\n",
            "Epoch 157/200\n",
            "18/18 [==============================] - 0s 5ms/step - loss: 1.2364e-06 - accuracy: 1.0000 - val_loss: 0.8836 - val_accuracy: 0.8889\n",
            "Epoch 158/200\n",
            "18/18 [==============================] - 0s 5ms/step - loss: 1.2141e-06 - accuracy: 1.0000 - val_loss: 0.8858 - val_accuracy: 0.8889\n",
            "Epoch 159/200\n",
            "18/18 [==============================] - 0s 5ms/step - loss: 1.1840e-06 - accuracy: 1.0000 - val_loss: 0.8899 - val_accuracy: 0.8889\n",
            "Epoch 160/200\n",
            "18/18 [==============================] - 0s 5ms/step - loss: 1.1539e-06 - accuracy: 1.0000 - val_loss: 0.8919 - val_accuracy: 0.8889\n",
            "Epoch 161/200\n",
            "18/18 [==============================] - 0s 5ms/step - loss: 1.1365e-06 - accuracy: 1.0000 - val_loss: 0.8930 - val_accuracy: 0.8889\n",
            "Epoch 162/200\n",
            "18/18 [==============================] - 0s 5ms/step - loss: 1.1354e-06 - accuracy: 1.0000 - val_loss: 0.8951 - val_accuracy: 0.8889\n",
            "Epoch 163/200\n",
            "18/18 [==============================] - 0s 5ms/step - loss: 1.1103e-06 - accuracy: 1.0000 - val_loss: 0.8913 - val_accuracy: 0.8889\n",
            "Epoch 164/200\n",
            "18/18 [==============================] - 0s 5ms/step - loss: 1.0715e-06 - accuracy: 1.0000 - val_loss: 0.8972 - val_accuracy: 0.8889\n",
            "Epoch 165/200\n",
            "18/18 [==============================] - 0s 5ms/step - loss: 1.0664e-06 - accuracy: 1.0000 - val_loss: 0.8990 - val_accuracy: 0.8889\n",
            "Epoch 166/200\n",
            "18/18 [==============================] - 0s 5ms/step - loss: 1.0361e-06 - accuracy: 1.0000 - val_loss: 0.8994 - val_accuracy: 0.8889\n",
            "Epoch 167/200\n",
            "18/18 [==============================] - 0s 4ms/step - loss: 1.0245e-06 - accuracy: 1.0000 - val_loss: 0.9020 - val_accuracy: 0.8889\n",
            "Epoch 168/200\n",
            "18/18 [==============================] - 0s 5ms/step - loss: 1.0060e-06 - accuracy: 1.0000 - val_loss: 0.9025 - val_accuracy: 0.8889\n",
            "Epoch 169/200\n",
            "18/18 [==============================] - 0s 4ms/step - loss: 9.9142e-07 - accuracy: 1.0000 - val_loss: 0.9012 - val_accuracy: 0.8889\n",
            "Epoch 170/200\n",
            "18/18 [==============================] - 0s 4ms/step - loss: 9.6421e-07 - accuracy: 1.0000 - val_loss: 0.9083 - val_accuracy: 0.8889\n",
            "Epoch 171/200\n",
            "18/18 [==============================] - 0s 6ms/step - loss: 9.5588e-07 - accuracy: 1.0000 - val_loss: 0.9161 - val_accuracy: 0.8889\n",
            "Epoch 172/200\n",
            "18/18 [==============================] - 0s 5ms/step - loss: 9.1063e-07 - accuracy: 1.0000 - val_loss: 0.9179 - val_accuracy: 0.8889\n",
            "Epoch 173/200\n",
            "18/18 [==============================] - 0s 5ms/step - loss: 8.9025e-07 - accuracy: 1.0000 - val_loss: 0.9227 - val_accuracy: 0.8889\n",
            "Epoch 174/200\n",
            "18/18 [==============================] - 0s 5ms/step - loss: 8.6764e-07 - accuracy: 1.0000 - val_loss: 0.9214 - val_accuracy: 0.8889\n",
            "Epoch 175/200\n",
            "18/18 [==============================] - 0s 5ms/step - loss: 8.5728e-07 - accuracy: 1.0000 - val_loss: 0.9311 - val_accuracy: 0.8889\n",
            "Epoch 176/200\n",
            "18/18 [==============================] - 0s 5ms/step - loss: 8.2149e-07 - accuracy: 1.0000 - val_loss: 0.9320 - val_accuracy: 0.8889\n",
            "Epoch 177/200\n",
            "18/18 [==============================] - 0s 5ms/step - loss: 8.0744e-07 - accuracy: 1.0000 - val_loss: 0.9324 - val_accuracy: 0.8889\n",
            "Epoch 178/200\n",
            "18/18 [==============================] - 0s 5ms/step - loss: 8.0342e-07 - accuracy: 1.0000 - val_loss: 0.9391 - val_accuracy: 0.8889\n",
            "Epoch 179/200\n",
            "18/18 [==============================] - 0s 4ms/step - loss: 7.6938e-07 - accuracy: 1.0000 - val_loss: 0.9376 - val_accuracy: 0.8889\n",
            "Epoch 180/200\n",
            "18/18 [==============================] - 0s 5ms/step - loss: 7.4889e-07 - accuracy: 1.0000 - val_loss: 0.9405 - val_accuracy: 0.8889\n",
            "Epoch 181/200\n",
            "18/18 [==============================] - 0s 5ms/step - loss: 7.3633e-07 - accuracy: 1.0000 - val_loss: 0.9397 - val_accuracy: 0.8889\n",
            "Epoch 182/200\n",
            "18/18 [==============================] - 0s 5ms/step - loss: 7.2515e-07 - accuracy: 1.0000 - val_loss: 0.9479 - val_accuracy: 0.8889\n",
            "Epoch 183/200\n",
            "18/18 [==============================] - 0s 5ms/step - loss: 7.0433e-07 - accuracy: 1.0000 - val_loss: 0.9483 - val_accuracy: 0.8889\n",
            "Epoch 184/200\n",
            "18/18 [==============================] - 0s 6ms/step - loss: 6.9088e-07 - accuracy: 1.0000 - val_loss: 0.9540 - val_accuracy: 0.8889\n",
            "Epoch 185/200\n",
            "18/18 [==============================] - 0s 5ms/step - loss: 6.6755e-07 - accuracy: 1.0000 - val_loss: 0.9548 - val_accuracy: 0.8889\n",
            "Epoch 186/200\n",
            "18/18 [==============================] - 0s 5ms/step - loss: 6.5772e-07 - accuracy: 1.0000 - val_loss: 0.9579 - val_accuracy: 0.8889\n",
            "Epoch 187/200\n",
            "18/18 [==============================] - 0s 5ms/step - loss: 6.4478e-07 - accuracy: 1.0000 - val_loss: 0.9569 - val_accuracy: 0.8889\n",
            "Epoch 188/200\n",
            "18/18 [==============================] - 0s 6ms/step - loss: 6.3085e-07 - accuracy: 1.0000 - val_loss: 0.9592 - val_accuracy: 0.8889\n",
            "Epoch 189/200\n",
            "18/18 [==============================] - 0s 5ms/step - loss: 6.2137e-07 - accuracy: 1.0000 - val_loss: 0.9595 - val_accuracy: 0.8889\n",
            "Epoch 190/200\n",
            "18/18 [==============================] - 0s 4ms/step - loss: 6.1093e-07 - accuracy: 1.0000 - val_loss: 0.9587 - val_accuracy: 0.8889\n",
            "Epoch 191/200\n",
            "18/18 [==============================] - 0s 5ms/step - loss: 5.9790e-07 - accuracy: 1.0000 - val_loss: 0.9601 - val_accuracy: 0.8889\n",
            "Epoch 192/200\n",
            "18/18 [==============================] - 0s 6ms/step - loss: 5.8726e-07 - accuracy: 1.0000 - val_loss: 0.9625 - val_accuracy: 0.8889\n",
            "Epoch 193/200\n",
            "18/18 [==============================] - 0s 5ms/step - loss: 5.8149e-07 - accuracy: 1.0000 - val_loss: 0.9629 - val_accuracy: 0.8889\n",
            "Epoch 194/200\n",
            "18/18 [==============================] - 0s 5ms/step - loss: 5.6836e-07 - accuracy: 1.0000 - val_loss: 0.9626 - val_accuracy: 0.8889\n",
            "Epoch 195/200\n",
            "18/18 [==============================] - 0s 5ms/step - loss: 5.6236e-07 - accuracy: 1.0000 - val_loss: 0.9670 - val_accuracy: 0.8889\n",
            "Epoch 196/200\n",
            "18/18 [==============================] - 0s 5ms/step - loss: 5.5165e-07 - accuracy: 1.0000 - val_loss: 0.9669 - val_accuracy: 0.8889\n",
            "Epoch 197/200\n",
            "18/18 [==============================] - 0s 6ms/step - loss: 5.4642e-07 - accuracy: 1.0000 - val_loss: 0.9620 - val_accuracy: 0.8889\n",
            "Epoch 198/200\n",
            "18/18 [==============================] - 0s 5ms/step - loss: 5.3585e-07 - accuracy: 1.0000 - val_loss: 0.9683 - val_accuracy: 0.8889\n",
            "Epoch 199/200\n",
            "18/18 [==============================] - 0s 5ms/step - loss: 5.2670e-07 - accuracy: 1.0000 - val_loss: 0.9706 - val_accuracy: 0.8889\n",
            "Epoch 200/200\n",
            "18/18 [==============================] - 0s 5ms/step - loss: 5.2770e-07 - accuracy: 1.0000 - val_loss: 0.9658 - val_accuracy: 0.8889\n"
          ]
        },
        {
          "output_type": "execute_result",
          "data": {
            "text/plain": [
              "<keras.callbacks.History at 0x7f0700172f50>"
            ]
          },
          "metadata": {},
          "execution_count": 29
        }
      ]
    },
    {
      "cell_type": "code",
      "source": [
        "y_pred = model.predict(X_test)\n",
        "y_pred = np.round(y_pred).astype(int)\n",
        "y_true = y_test\n",
        "print(f'Test Set Accuracy score =  {100*accuracy_score(y_true, y_pred):.3f}%') #same as model.score(X_test, y_test)\n",
        "print(f'Test Set Precision score =  {100*precision_score(y_true, y_pred, average=\"macro\"):.3f}%')\n",
        "print(f'Test Set Recall score =  {100*recall_score(y_true, y_pred, average=\"macro\"):.3f}%')\n",
        "print(f'Test Set F-score score =  {100*f1_score(y_true, y_pred, average=\"weighted\"):.3f}%')"
      ],
      "metadata": {
        "colab": {
          "base_uri": "https://localhost:8080/"
        },
        "id": "eHnL2h2cdnnQ",
        "outputId": "36d89b17-c58e-47da-90aa-f77675b4c511"
      },
      "execution_count": 30,
      "outputs": [
        {
          "output_type": "stream",
          "name": "stdout",
          "text": [
            "Test Set Accuracy score =  77.778%\n",
            "Test Set Precision score =  75.000%\n",
            "Test Set Recall score =  85.714%\n",
            "Test Set F-score score =  79.630%\n"
          ]
        }
      ]
    },
    {
      "cell_type": "markdown",
      "source": [
        "**Residual Network**"
      ],
      "metadata": {
        "id": "Y9Lkx87TeTAO"
      }
    },
    {
      "cell_type": "code",
      "source": [
        "def residual_block(x, filters, conv_num=3, activation=\"relu\"):\n",
        "    # Shortcut\n",
        "    s = keras.layers.Conv1D(filters, 1, padding=\"same\")(x)\n",
        "    for i in range(conv_num - 1):\n",
        "        x = keras.layers.Conv1D(filters, 3, padding=\"same\")(x)\n",
        "        x = keras.layers.Activation(activation)(x)\n",
        "    x = keras.layers.Conv1D(filters, 3, padding=\"same\")(x)\n",
        "    x = keras.layers.Add()([x, s])\n",
        "    x = keras.layers.Activation(activation)(x)\n",
        "    return keras.layers.MaxPool1D(pool_size=2, strides=2)(x)\n",
        "\n",
        "\n",
        "def build_model(input_shape, num_classes):\n",
        "    inputs = keras.layers.Input(shape=input_shape, name=\"input\")\n",
        "\n",
        "    x = residual_block(inputs, 16, 2)\n",
        "    x = residual_block(x, 32, 2)\n",
        "    x = residual_block(x, 64, 3)\n",
        "    x = residual_block(x, 128, 3)\n",
        "    x = residual_block(x, 128, 3)\n",
        "\n",
        "    x = keras.layers.AveragePooling1D(pool_size=3, strides=3)(x)\n",
        "    x = keras.layers.Flatten()(x)\n",
        "    x = keras.layers.Dense(256, activation=\"relu\")(x)\n",
        "    x = keras.layers.Dense(128, activation=\"relu\")(x)\n",
        "\n",
        "    outputs = keras.layers.Dense(num_classes, activation=\"sigmoid\", name=\"output\")(x)\n",
        "\n",
        "    return keras.models.Model(inputs=inputs, outputs=outputs)"
      ],
      "metadata": {
        "id": "f9XvfUJRdsPH"
      },
      "execution_count": 31,
      "outputs": []
    },
    {
      "cell_type": "code",
      "source": [
        "model = build_model((180, 1), 1)\n",
        "\n",
        "model.summary()"
      ],
      "metadata": {
        "colab": {
          "base_uri": "https://localhost:8080/"
        },
        "id": "oqE0U8qPdv2D",
        "outputId": "8ac31ac2-4c9c-4afb-85f8-abc728dd1668"
      },
      "execution_count": 32,
      "outputs": [
        {
          "output_type": "stream",
          "name": "stdout",
          "text": [
            "Model: \"model\"\n",
            "__________________________________________________________________________________________________\n",
            " Layer (type)                   Output Shape         Param #     Connected to                     \n",
            "==================================================================================================\n",
            " input (InputLayer)             [(None, 180, 1)]     0           []                               \n",
            "                                                                                                  \n",
            " conv1d_1 (Conv1D)              (None, 180, 16)      64          ['input[0][0]']                  \n",
            "                                                                                                  \n",
            " activation (Activation)        (None, 180, 16)      0           ['conv1d_1[0][0]']               \n",
            "                                                                                                  \n",
            " conv1d_2 (Conv1D)              (None, 180, 16)      784         ['activation[0][0]']             \n",
            "                                                                                                  \n",
            " conv1d (Conv1D)                (None, 180, 16)      32          ['input[0][0]']                  \n",
            "                                                                                                  \n",
            " add (Add)                      (None, 180, 16)      0           ['conv1d_2[0][0]',               \n",
            "                                                                  'conv1d[0][0]']                 \n",
            "                                                                                                  \n",
            " activation_1 (Activation)      (None, 180, 16)      0           ['add[0][0]']                    \n",
            "                                                                                                  \n",
            " max_pooling1d (MaxPooling1D)   (None, 90, 16)       0           ['activation_1[0][0]']           \n",
            "                                                                                                  \n",
            " conv1d_4 (Conv1D)              (None, 90, 32)       1568        ['max_pooling1d[0][0]']          \n",
            "                                                                                                  \n",
            " activation_2 (Activation)      (None, 90, 32)       0           ['conv1d_4[0][0]']               \n",
            "                                                                                                  \n",
            " conv1d_5 (Conv1D)              (None, 90, 32)       3104        ['activation_2[0][0]']           \n",
            "                                                                                                  \n",
            " conv1d_3 (Conv1D)              (None, 90, 32)       544         ['max_pooling1d[0][0]']          \n",
            "                                                                                                  \n",
            " add_1 (Add)                    (None, 90, 32)       0           ['conv1d_5[0][0]',               \n",
            "                                                                  'conv1d_3[0][0]']               \n",
            "                                                                                                  \n",
            " activation_3 (Activation)      (None, 90, 32)       0           ['add_1[0][0]']                  \n",
            "                                                                                                  \n",
            " max_pooling1d_1 (MaxPooling1D)  (None, 45, 32)      0           ['activation_3[0][0]']           \n",
            "                                                                                                  \n",
            " conv1d_7 (Conv1D)              (None, 45, 64)       6208        ['max_pooling1d_1[0][0]']        \n",
            "                                                                                                  \n",
            " activation_4 (Activation)      (None, 45, 64)       0           ['conv1d_7[0][0]']               \n",
            "                                                                                                  \n",
            " conv1d_8 (Conv1D)              (None, 45, 64)       12352       ['activation_4[0][0]']           \n",
            "                                                                                                  \n",
            " activation_5 (Activation)      (None, 45, 64)       0           ['conv1d_8[0][0]']               \n",
            "                                                                                                  \n",
            " conv1d_9 (Conv1D)              (None, 45, 64)       12352       ['activation_5[0][0]']           \n",
            "                                                                                                  \n",
            " conv1d_6 (Conv1D)              (None, 45, 64)       2112        ['max_pooling1d_1[0][0]']        \n",
            "                                                                                                  \n",
            " add_2 (Add)                    (None, 45, 64)       0           ['conv1d_9[0][0]',               \n",
            "                                                                  'conv1d_6[0][0]']               \n",
            "                                                                                                  \n",
            " activation_6 (Activation)      (None, 45, 64)       0           ['add_2[0][0]']                  \n",
            "                                                                                                  \n",
            " max_pooling1d_2 (MaxPooling1D)  (None, 22, 64)      0           ['activation_6[0][0]']           \n",
            "                                                                                                  \n",
            " conv1d_11 (Conv1D)             (None, 22, 128)      24704       ['max_pooling1d_2[0][0]']        \n",
            "                                                                                                  \n",
            " activation_7 (Activation)      (None, 22, 128)      0           ['conv1d_11[0][0]']              \n",
            "                                                                                                  \n",
            " conv1d_12 (Conv1D)             (None, 22, 128)      49280       ['activation_7[0][0]']           \n",
            "                                                                                                  \n",
            " activation_8 (Activation)      (None, 22, 128)      0           ['conv1d_12[0][0]']              \n",
            "                                                                                                  \n",
            " conv1d_13 (Conv1D)             (None, 22, 128)      49280       ['activation_8[0][0]']           \n",
            "                                                                                                  \n",
            " conv1d_10 (Conv1D)             (None, 22, 128)      8320        ['max_pooling1d_2[0][0]']        \n",
            "                                                                                                  \n",
            " add_3 (Add)                    (None, 22, 128)      0           ['conv1d_13[0][0]',              \n",
            "                                                                  'conv1d_10[0][0]']              \n",
            "                                                                                                  \n",
            " activation_9 (Activation)      (None, 22, 128)      0           ['add_3[0][0]']                  \n",
            "                                                                                                  \n",
            " max_pooling1d_3 (MaxPooling1D)  (None, 11, 128)     0           ['activation_9[0][0]']           \n",
            "                                                                                                  \n",
            " conv1d_15 (Conv1D)             (None, 11, 128)      49280       ['max_pooling1d_3[0][0]']        \n",
            "                                                                                                  \n",
            " activation_10 (Activation)     (None, 11, 128)      0           ['conv1d_15[0][0]']              \n",
            "                                                                                                  \n",
            " conv1d_16 (Conv1D)             (None, 11, 128)      49280       ['activation_10[0][0]']          \n",
            "                                                                                                  \n",
            " activation_11 (Activation)     (None, 11, 128)      0           ['conv1d_16[0][0]']              \n",
            "                                                                                                  \n",
            " conv1d_17 (Conv1D)             (None, 11, 128)      49280       ['activation_11[0][0]']          \n",
            "                                                                                                  \n",
            " conv1d_14 (Conv1D)             (None, 11, 128)      16512       ['max_pooling1d_3[0][0]']        \n",
            "                                                                                                  \n",
            " add_4 (Add)                    (None, 11, 128)      0           ['conv1d_17[0][0]',              \n",
            "                                                                  'conv1d_14[0][0]']              \n",
            "                                                                                                  \n",
            " activation_12 (Activation)     (None, 11, 128)      0           ['add_4[0][0]']                  \n",
            "                                                                                                  \n",
            " max_pooling1d_4 (MaxPooling1D)  (None, 5, 128)      0           ['activation_12[0][0]']          \n",
            "                                                                                                  \n",
            " average_pooling1d (AveragePool  (None, 1, 128)      0           ['max_pooling1d_4[0][0]']        \n",
            " ing1D)                                                                                           \n",
            "                                                                                                  \n",
            " flatten (Flatten)              (None, 128)          0           ['average_pooling1d[0][0]']      \n",
            "                                                                                                  \n",
            " dense_8 (Dense)                (None, 256)          33024       ['flatten[0][0]']                \n",
            "                                                                                                  \n",
            " dense_9 (Dense)                (None, 128)          32896       ['dense_8[0][0]']                \n",
            "                                                                                                  \n",
            " output (Dense)                 (None, 1)            129         ['dense_9[0][0]']                \n",
            "                                                                                                  \n",
            "==================================================================================================\n",
            "Total params: 401,105\n",
            "Trainable params: 401,105\n",
            "Non-trainable params: 0\n",
            "__________________________________________________________________________________________________\n"
          ]
        }
      ]
    },
    {
      "cell_type": "code",
      "source": [
        "model.compile(optimizer=\"Adam\", loss=\"binary_crossentropy\", metrics=[\"accuracy\"])"
      ],
      "metadata": {
        "id": "AH_sVjjHdxLi"
      },
      "execution_count": 33,
      "outputs": []
    },
    {
      "cell_type": "code",
      "source": [
        "model_save_filename = \"model.h5\"\n",
        "\n",
        "earlystopping_cb = keras.callbacks.EarlyStopping(patience=25, restore_best_weights=True)\n",
        "mdlcheckpoint_cb = keras.callbacks.ModelCheckpoint(\n",
        "    model_save_filename, monitor=\"val_accuracy\", save_best_only=True\n",
        ")"
      ],
      "metadata": {
        "id": "1NsrpED-dzHL"
      },
      "execution_count": 34,
      "outputs": []
    },
    {
      "cell_type": "code",
      "source": [
        "model.fit(X_train, y_train, batch_size=4, epochs=200, verbose=1, validation_data=(X_val, y_val),shuffle = True, \n",
        "         callbacks=[earlystopping_cb, mdlcheckpoint_cb])"
      ],
      "metadata": {
        "colab": {
          "base_uri": "https://localhost:8080/"
        },
        "id": "O-8-u3Uvd0WD",
        "outputId": "9dd75bcf-ec4a-46c7-9865-08ba75ddf205"
      },
      "execution_count": 35,
      "outputs": [
        {
          "output_type": "stream",
          "name": "stdout",
          "text": [
            "Epoch 1/200\n",
            "18/18 [==============================] - 5s 94ms/step - loss: 1.0089 - accuracy: 0.5143 - val_loss: 0.6929 - val_accuracy: 0.4444\n",
            "Epoch 2/200\n",
            "18/18 [==============================] - 0s 21ms/step - loss: 0.6275 - accuracy: 0.5714 - val_loss: 0.6583 - val_accuracy: 0.5556\n",
            "Epoch 3/200\n",
            "18/18 [==============================] - 0s 10ms/step - loss: 0.7599 - accuracy: 0.7000 - val_loss: 0.6818 - val_accuracy: 0.4444\n",
            "Epoch 4/200\n",
            "18/18 [==============================] - 0s 10ms/step - loss: 0.6559 - accuracy: 0.5429 - val_loss: 0.6641 - val_accuracy: 0.4444\n",
            "Epoch 5/200\n",
            "18/18 [==============================] - 0s 11ms/step - loss: 0.5528 - accuracy: 0.7143 - val_loss: 0.6027 - val_accuracy: 0.5556\n",
            "Epoch 6/200\n",
            "18/18 [==============================] - 0s 21ms/step - loss: 0.3981 - accuracy: 0.8286 - val_loss: 0.5038 - val_accuracy: 0.6667\n",
            "Epoch 7/200\n",
            "18/18 [==============================] - 0s 11ms/step - loss: 0.6179 - accuracy: 0.7286 - val_loss: 0.6060 - val_accuracy: 0.6667\n",
            "Epoch 8/200\n",
            "18/18 [==============================] - 0s 11ms/step - loss: 0.3987 - accuracy: 0.8571 - val_loss: 0.7690 - val_accuracy: 0.4444\n",
            "Epoch 9/200\n",
            "18/18 [==============================] - 0s 10ms/step - loss: 0.5577 - accuracy: 0.8286 - val_loss: 0.5559 - val_accuracy: 0.6667\n",
            "Epoch 10/200\n",
            "18/18 [==============================] - 0s 10ms/step - loss: 0.3787 - accuracy: 0.8714 - val_loss: 0.7776 - val_accuracy: 0.5556\n",
            "Epoch 11/200\n",
            "18/18 [==============================] - 0s 10ms/step - loss: 0.2461 - accuracy: 0.9286 - val_loss: 0.5720 - val_accuracy: 0.6667\n",
            "Epoch 12/200\n",
            "18/18 [==============================] - 0s 10ms/step - loss: 0.3279 - accuracy: 0.8571 - val_loss: 0.5447 - val_accuracy: 0.6667\n",
            "Epoch 13/200\n",
            "18/18 [==============================] - 0s 10ms/step - loss: 0.3074 - accuracy: 0.8714 - val_loss: 0.7581 - val_accuracy: 0.3333\n",
            "Epoch 14/200\n",
            "18/18 [==============================] - 0s 10ms/step - loss: 0.2767 - accuracy: 0.9000 - val_loss: 0.7597 - val_accuracy: 0.5556\n",
            "Epoch 15/200\n",
            "18/18 [==============================] - 0s 10ms/step - loss: 0.1599 - accuracy: 0.9286 - val_loss: 0.6554 - val_accuracy: 0.5556\n",
            "Epoch 16/200\n",
            "18/18 [==============================] - 0s 11ms/step - loss: 0.0995 - accuracy: 0.9714 - val_loss: 1.5555 - val_accuracy: 0.5556\n",
            "Epoch 17/200\n",
            "18/18 [==============================] - 0s 10ms/step - loss: 0.5286 - accuracy: 0.8571 - val_loss: 0.6277 - val_accuracy: 0.5556\n",
            "Epoch 18/200\n",
            "18/18 [==============================] - 0s 10ms/step - loss: 0.2702 - accuracy: 0.8857 - val_loss: 0.6029 - val_accuracy: 0.4444\n",
            "Epoch 19/200\n",
            "18/18 [==============================] - 0s 20ms/step - loss: 0.1887 - accuracy: 0.9000 - val_loss: 0.6138 - val_accuracy: 0.7778\n",
            "Epoch 20/200\n",
            "18/18 [==============================] - 0s 19ms/step - loss: 0.1288 - accuracy: 0.9571 - val_loss: 0.6333 - val_accuracy: 0.8889\n",
            "Epoch 21/200\n",
            "18/18 [==============================] - 0s 10ms/step - loss: 0.0807 - accuracy: 0.9571 - val_loss: 1.1483 - val_accuracy: 0.5556\n",
            "Epoch 22/200\n",
            "18/18 [==============================] - 0s 11ms/step - loss: 0.3884 - accuracy: 0.8429 - val_loss: 0.4934 - val_accuracy: 0.8889\n",
            "Epoch 23/200\n",
            "18/18 [==============================] - 0s 10ms/step - loss: 0.1843 - accuracy: 0.9286 - val_loss: 0.6531 - val_accuracy: 0.6667\n",
            "Epoch 24/200\n",
            "18/18 [==============================] - 0s 11ms/step - loss: 0.1320 - accuracy: 0.9571 - val_loss: 0.6744 - val_accuracy: 0.5556\n",
            "Epoch 25/200\n",
            "18/18 [==============================] - 0s 10ms/step - loss: 0.1129 - accuracy: 0.9571 - val_loss: 0.7925 - val_accuracy: 0.5556\n",
            "Epoch 26/200\n",
            "18/18 [==============================] - 0s 10ms/step - loss: 0.0920 - accuracy: 0.9571 - val_loss: 0.6615 - val_accuracy: 0.7778\n",
            "Epoch 27/200\n",
            "18/18 [==============================] - 0s 10ms/step - loss: 0.0843 - accuracy: 0.9571 - val_loss: 0.7724 - val_accuracy: 0.6667\n",
            "Epoch 28/200\n",
            "18/18 [==============================] - 0s 10ms/step - loss: 0.1002 - accuracy: 0.9429 - val_loss: 0.8696 - val_accuracy: 0.6667\n",
            "Epoch 29/200\n",
            "18/18 [==============================] - 0s 11ms/step - loss: 0.0739 - accuracy: 0.9714 - val_loss: 1.0328 - val_accuracy: 0.7778\n",
            "Epoch 30/200\n",
            "18/18 [==============================] - 0s 10ms/step - loss: 0.0426 - accuracy: 1.0000 - val_loss: 1.0774 - val_accuracy: 0.6667\n",
            "Epoch 31/200\n",
            "18/18 [==============================] - 0s 10ms/step - loss: 0.0230 - accuracy: 1.0000 - val_loss: 1.3585 - val_accuracy: 0.7778\n",
            "Epoch 32/200\n",
            "18/18 [==============================] - 0s 10ms/step - loss: 0.0199 - accuracy: 1.0000 - val_loss: 1.3974 - val_accuracy: 0.8889\n",
            "Epoch 33/200\n",
            "18/18 [==============================] - 0s 10ms/step - loss: 0.0065 - accuracy: 1.0000 - val_loss: 1.6098 - val_accuracy: 0.8889\n",
            "Epoch 34/200\n",
            "18/18 [==============================] - 0s 11ms/step - loss: 0.0014 - accuracy: 1.0000 - val_loss: 1.7327 - val_accuracy: 0.8889\n",
            "Epoch 35/200\n",
            "18/18 [==============================] - 0s 10ms/step - loss: 6.5834e-04 - accuracy: 1.0000 - val_loss: 1.8245 - val_accuracy: 0.8889\n",
            "Epoch 36/200\n",
            "18/18 [==============================] - 0s 10ms/step - loss: 4.7992e-04 - accuracy: 1.0000 - val_loss: 1.9333 - val_accuracy: 0.8889\n",
            "Epoch 37/200\n",
            "18/18 [==============================] - 0s 10ms/step - loss: 3.2411e-04 - accuracy: 1.0000 - val_loss: 2.0410 - val_accuracy: 0.8889\n",
            "Epoch 38/200\n",
            "18/18 [==============================] - 0s 10ms/step - loss: 1.9140e-04 - accuracy: 1.0000 - val_loss: 2.0776 - val_accuracy: 0.8889\n",
            "Epoch 39/200\n",
            "18/18 [==============================] - 0s 10ms/step - loss: 1.6997e-04 - accuracy: 1.0000 - val_loss: 2.1222 - val_accuracy: 0.8889\n",
            "Epoch 40/200\n",
            "18/18 [==============================] - 0s 11ms/step - loss: 1.2402e-04 - accuracy: 1.0000 - val_loss: 2.1607 - val_accuracy: 0.8889\n",
            "Epoch 41/200\n",
            "18/18 [==============================] - 0s 10ms/step - loss: 1.1135e-04 - accuracy: 1.0000 - val_loss: 2.2067 - val_accuracy: 0.8889\n",
            "Epoch 42/200\n",
            "18/18 [==============================] - 0s 11ms/step - loss: 8.9161e-05 - accuracy: 1.0000 - val_loss: 2.2293 - val_accuracy: 0.8889\n",
            "Epoch 43/200\n",
            "18/18 [==============================] - 0s 11ms/step - loss: 7.7145e-05 - accuracy: 1.0000 - val_loss: 2.2812 - val_accuracy: 0.8889\n",
            "Epoch 44/200\n",
            "18/18 [==============================] - 0s 10ms/step - loss: 6.5121e-05 - accuracy: 1.0000 - val_loss: 2.3039 - val_accuracy: 0.8889\n",
            "Epoch 45/200\n",
            "18/18 [==============================] - 0s 11ms/step - loss: 6.0283e-05 - accuracy: 1.0000 - val_loss: 2.3247 - val_accuracy: 0.8889\n",
            "Epoch 46/200\n",
            "18/18 [==============================] - 0s 10ms/step - loss: 5.1608e-05 - accuracy: 1.0000 - val_loss: 2.3413 - val_accuracy: 0.8889\n",
            "Epoch 47/200\n",
            "18/18 [==============================] - 0s 11ms/step - loss: 4.6515e-05 - accuracy: 1.0000 - val_loss: 2.3598 - val_accuracy: 0.8889\n"
          ]
        },
        {
          "output_type": "execute_result",
          "data": {
            "text/plain": [
              "<keras.callbacks.History at 0x7f070013e990>"
            ]
          },
          "metadata": {},
          "execution_count": 35
        }
      ]
    },
    {
      "cell_type": "code",
      "source": [
        "y_pred = model.predict(X_test)\n",
        "y_pred = np.round(y_pred).astype(int)\n",
        "y_true = y_test\n",
        "print(f'Test Set Accuracy score =  {100*accuracy_score(y_true, y_pred):.3f}%') #same as model.score(X_test, y_test)\n",
        "print(f'Test Set Precision score =  {100*precision_score(y_true, y_pred, average=\"macro\"):.3f}%')\n",
        "print(f'Test Set Recall score =  {100*recall_score(y_true, y_pred, average=\"macro\"):.3f}%')\n",
        "print(f'Test Set F-score score =  {100*f1_score(y_true, y_pred, average=\"weighted\"):.3}%')"
      ],
      "metadata": {
        "colab": {
          "base_uri": "https://localhost:8080/"
        },
        "id": "2xXwSuqbd3eC",
        "outputId": "8345e9bd-6acc-4212-bd01-78c961986329"
      },
      "execution_count": 36,
      "outputs": [
        {
          "output_type": "stream",
          "name": "stdout",
          "text": [
            "Test Set Accuracy score =  88.889%\n",
            "Test Set Precision score =  83.333%\n",
            "Test Set Recall score =  92.857%\n",
            "Test Set F-score score =  89.6%\n"
          ]
        }
      ]
    }
  ]
}